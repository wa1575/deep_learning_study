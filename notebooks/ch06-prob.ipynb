{
 "cells": [
  {
   "cell_type": "markdown",
   "metadata": {},
   "source": [
    "# 6장 확률과 통계"
   ]
  },
  {
   "cell_type": "code",
   "execution_count": null,
   "metadata": {},
   "outputs": [],
   "source": [
    "# 필요 라이브러리 선언\n",
    "import numpy as np\n",
    "import scipy.special as scm\n",
    "import  matplotlib.pyplot as plt"
   ]
  },
  {
   "cell_type": "code",
   "execution_count": null,
   "metadata": {},
   "outputs": [],
   "source": [
    "# PDF 출력\n",
    "from IPython.display import set_matplotlib_formats\n",
    "set_matplotlib_formats('png', 'pdf')"
   ]
  },
  {
   "cell_type": "markdown",
   "metadata": {},
   "source": [
    "## 히스토그램 그리기"
   ]
  },
  {
   "cell_type": "markdown",
   "metadata": {},
   "source": [
    "### n=2인 경우\n",
    "그림 6-1"
   ]
  },
  {
   "cell_type": "code",
   "execution_count": null,
   "metadata": {},
   "outputs": [],
   "source": [
    "N = 2\n",
    "M = 2**N\n",
    "X = range(N+1)\n",
    "plt.bar(X, [scm.comb(N, i)/M for i in X])\n",
    "plt.xticks(X, [str(i) for i in X])\n",
    "plt.show()"
   ]
  },
  {
   "cell_type": "markdown",
   "metadata": {},
   "source": [
    "### n=3인 경우\n",
    "그림 6-2"
   ]
  },
  {
   "cell_type": "code",
   "execution_count": null,
   "metadata": {},
   "outputs": [],
   "source": [
    "N = 3\n",
    "M = 2**N\n",
    "X = range(N+1)\n",
    "plt.bar(X, [scm.comb(N, i)/M for i in X])\n",
    "plt.xticks(X, [str(i) for i in X])\n",
    "plt.yticks(np.arange(0,0.405,0.05))\n",
    "plt.show()"
   ]
  },
  {
   "cell_type": "markdown",
   "metadata": {},
   "source": [
    "### n=4인 경우\n",
    "그림 6-3"
   ]
  },
  {
   "cell_type": "code",
   "execution_count": null,
   "metadata": {},
   "outputs": [],
   "source": [
    "N = 4\n",
    "M = 2**N\n",
    "X = range(N+1)\n",
    "plt.bar(X, [scm.comb(N, i)/M for i in X])\n",
    "plt.xticks(X, [str(i) for i in X])\n",
    "plt.yticks(np.arange(0,0.405,0.05))\n",
    "plt.show()"
   ]
  },
  {
   "cell_type": "markdown",
   "metadata": {},
   "source": [
    "### n=10인 경우\n",
    "그림 6-4"
   ]
  },
  {
   "cell_type": "code",
   "execution_count": null,
   "metadata": {},
   "outputs": [],
   "source": [
    "N = 10\n",
    "M = 2**N\n",
    "X = range(N+1)\n",
    "plt.bar(X, [scm.comb(N, i)/M for i in X])\n",
    "plt.xticks(X, [str(i) for i in X])\n",
    "plt.show()"
   ]
  },
  {
   "cell_type": "markdown",
   "metadata": {},
   "source": [
    "### n=100인 경우\n",
    "그림 6-5"
   ]
  },
  {
   "cell_type": "code",
   "execution_count": null,
   "metadata": {},
   "outputs": [],
   "source": [
    "N = 100\n",
    "M = 2**N\n",
    "X = range(30,71)\n",
    "plt.bar(X, [scm.comb(N, i)/M for i in X])\n",
    "plt.show()"
   ]
  },
  {
   "cell_type": "markdown",
   "metadata": {},
   "source": [
    "### n=1000인 경우\n",
    "그림 6-6"
   ]
  },
  {
   "cell_type": "code",
   "execution_count": null,
   "metadata": {},
   "outputs": [],
   "source": [
    "N = 1000\n",
    "M = 2**N\n",
    "X = range(440,561)\n",
    "plt.bar(X, [scm.comb(N, i)/M for i in X])\n",
    "plt.show()"
   ]
  },
  {
   "cell_type": "markdown",
   "metadata": {},
   "source": [
    "## 정규분포함수와 히스토그램\n",
    "그림 6-8"
   ]
  },
  {
   "cell_type": "code",
   "execution_count": null,
   "metadata": {},
   "outputs": [],
   "source": [
    "import numpy as np\n",
    "import scipy.special as scm\n",
    "import matplotlib.pyplot as plt\n",
    "\n",
    "# 정규분포함수의 정의\n",
    "def gauss(x, n):\n",
    "    m = n/2\n",
    "    return np.exp(-(x-m)**2 / m) /  np.sqrt(m * np.pi)\n",
    "\n",
    "# 이항분포의 그래프와 정규분포 그래프를 함께 그린 모습\n",
    "N = 1000\n",
    "M = 2**N\n",
    "X = range(440,561)\n",
    "plt.bar(X, [scm.comb(N, i)/M for i in X])\n",
    "plt.plot(X, gauss(np.array(X), N), c='k', linewidth=2)\n",
    "plt.show()"
   ]
  },
  {
   "cell_type": "markdown",
   "metadata": {},
   "source": [
    "### 적분한 결괏값\n",
    "그림 6-10"
   ]
  },
  {
   "cell_type": "code",
   "execution_count": null,
   "metadata": {},
   "outputs": [],
   "source": [
    "import numpy as np\n",
    "from scipy import integrate\n",
    "def normal(x):\n",
    "    return np.exp(-((x-500)**2)/500) / np.sqrt(500*np.pi)\n",
    "integrate.quad(normal, 0, 480)"
   ]
  },
  {
   "cell_type": "markdown",
   "metadata": {},
   "source": [
    "## 시그모이드 함수(sig)와 정규분포함수(std)\n",
    "그림 6-11"
   ]
  },
  {
   "cell_type": "code",
   "execution_count": null,
   "metadata": {},
   "outputs": [],
   "source": [
    "import numpy as np\n",
    "import matplotlib.pyplot as plt\n",
    "\n",
    "# 정규분포함수\n",
    "def std(x, sigma=1):\n",
    "    return (np.exp(-(x/sigma)**2/2)) / (np.sqrt(2*np.pi) * sigma)\n",
    "\n",
    "# 시그모이드 함수(확률분포함수)\n",
    "def sigmoid(x):\n",
    "    return (1/(1 + np.exp(x)))\n",
    "\n",
    "# 좌표 계산\n",
    "x = np.linspace(-5, 5, 1000)\n",
    "y_std = std(x, 1.6)\n",
    "sig = sigmoid(x)\n",
    "y_sig = sig * (1-sig)\n",
    "\n",
    "# 그래프 그리기\n",
    "plt.figure(figsize=(8,8))\n",
    "plt.plot(x, y_std, label=\"std\", c='k',lw=3, linestyle='-.')\n",
    "plt.plot(x, y_sig, label=\"sig\", c='b',lw=3)\n",
    "plt.legend(fontsize=14)\n",
    "plt.grid(lw=2)\n",
    "plt.show()"
   ]
  },
  {
   "cell_type": "markdown",
   "metadata": {},
   "source": [
    "## p를 변수로 한 가능도함수의 그래프\n",
    "그림 6-12"
   ]
  },
  {
   "cell_type": "code",
   "execution_count": null,
   "metadata": {},
   "outputs": [],
   "source": [
    "import numpy as np\n",
    "import matplotlib.pyplot as plt\n",
    "\n",
    "def L(p, n, k):\n",
    "    return( (p ** k) * ((1-p) ** (n-k)))\n",
    "\n",
    "x = np.linspace(0, 1, 1000)\n",
    "y = L(x, 5, 2)\n",
    "x0 = np.asarray([0.4, 0.4])\n",
    "y0 = np.asarray([0, L(0.4, 5, 2)])\n",
    "\n",
    "plt.figure(figsize=(6,6))\n",
    "plt.plot(x, y, c='b', lw=3)\n",
    "plt.plot(x0, y0, linestyle='dashed', c='k', lw=3)\n",
    "plt.xticks(size=16)\n",
    "plt.yticks(size=16)\n",
    "plt.grid(lw=2)\n",
    "plt.xlabel(\"p\", fontsize=16) \n",
    "plt.ylabel(\"L(p)\", fontsize=16)\n",
    "plt.show()"
   ]
  }
 ],
 "metadata": {
  "kernelspec": {
   "display_name": "Python 3",
   "language": "python",
   "name": "python3"
  },
  "language_info": {
   "codemirror_mode": {
    "name": "ipython",
    "version": 3
   },
   "file_extension": ".py",
   "mimetype": "text/x-python",
   "name": "python",
   "nbconvert_exporter": "python",
   "pygments_lexer": "ipython3",
   "version": "3.6.9"
  }
 },
 "nbformat": 4,
 "nbformat_minor": 1
}
