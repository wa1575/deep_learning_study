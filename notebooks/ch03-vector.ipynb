{
 "cells": [
  {
   "cell_type": "markdown",
   "metadata": {},
   "source": [
    "# 3장 벡터와 행렬"
   ]
  },
  {
   "cell_type": "code",
   "execution_count": null,
   "metadata": {},
   "outputs": [],
   "source": [
    "# 필요 라이브러리 선언\n",
    "%matplotlib inline\n",
    "import numpy as np\n",
    "import matplotlib.pyplot as plt"
   ]
  },
  {
   "cell_type": "code",
   "execution_count": null,
   "metadata": {},
   "outputs": [],
   "source": [
    "# PDF 출력\n",
    "from IPython.display import set_matplotlib_formats\n",
    "set_matplotlib_formats('png', 'pdf')"
   ]
  },
  {
   "cell_type": "code",
   "execution_count": null,
   "metadata": {},
   "outputs": [],
   "source": [
    "# 삼각함수의 정의 (라디안 -> 360도)\n",
    "def sin(x):\n",
    "    return(np.sin(x * np.pi / 180.))\n",
    "def cos(x):\n",
    "    return(np.cos(x * np.pi / 180.))\n",
    "x = np.linspace(-180.0, 720, 500)"
   ]
  },
  {
   "cell_type": "code",
   "execution_count": null,
   "metadata": {},
   "outputs": [],
   "source": [
    "# 그림 3-12 y=sinϴ 그래프\n",
    "fig = plt.figure(figsize=(10,3))\n",
    "plt.xlabel('x',fontsize=14)\n",
    "plt.ylabel('y',fontsize=14)\n",
    "plt.xlim(-180.0, 720.0)\n",
    "plt.xticks(np.arange(-180, 810, 90))\n",
    "plt.ylim(-1.2, 1.2)\n",
    "plt.grid(lw=2)\n",
    "plt.plot(x, sin(x), c='b')\n",
    "plt.plot([-180,721],[0,0], color='black')\n",
    "plt.plot([0,0],[-1.5,1.5],color='black')\n",
    "plt.show()"
   ]
  },
  {
   "cell_type": "code",
   "execution_count": null,
   "metadata": {},
   "outputs": [],
   "source": [
    "# 그림 3-13 y=cosϴ 그래프\n",
    "fig = plt.figure(figsize=(10,3))\n",
    "plt.xlabel('x',fontsize=14)\n",
    "plt.ylabel('y',fontsize=14)\n",
    "plt.xlim(-180.0, 720.0)\n",
    "plt.xticks(np.arange(-180, 810, 90))\n",
    "plt.ylim(-1.2, 1.2)\n",
    "plt.grid(lw=2)\n",
    "plt.plot(x, cos(x), c='b')\n",
    "plt.plot([-180,720],[0,0], color='black')\n",
    "plt.plot([0,0],[-1.5,1.5],color='black')\n",
    "plt.show()"
   ]
  }
 ],
 "metadata": {
  "kernelspec": {
   "display_name": "Python 3",
   "language": "python",
   "name": "python3"
  },
  "language_info": {
   "codemirror_mode": {
    "name": "ipython",
    "version": 3
   },
   "file_extension": ".py",
   "mimetype": "text/x-python",
   "name": "python",
   "nbconvert_exporter": "python",
   "pygments_lexer": "ipython3",
   "version": "3.6.9"
  }
 },
 "nbformat": 4,
 "nbformat_minor": 2
}
