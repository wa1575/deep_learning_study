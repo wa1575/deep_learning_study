{
 "cells": [
  {
   "cell_type": "markdown",
   "metadata": {
    "collapsed": true
   },
   "source": [
    "# 8장 로지스텍 회귀 모델(이진 분류)"
   ]
  },
  {
   "cell_type": "code",
   "execution_count": null,
   "metadata": {},
   "outputs": [],
   "source": [
    "# 필요 라이브러리 선언\n",
    "%matplotlib inline\n",
    "import numpy as np\n",
    "import matplotlib.pyplot as plt"
   ]
  },
  {
   "cell_type": "code",
   "execution_count": null,
   "metadata": {},
   "outputs": [],
   "source": [
    "# PDF 출력\n",
    "from IPython.display import set_matplotlib_formats\n",
    "set_matplotlib_formats('png', 'pdf')"
   ]
  },
  {
   "cell_type": "markdown",
   "metadata": {},
   "source": [
    "### 시그모이드 함수의 그래프\n",
    "그림 8-4"
   ]
  },
  {
   "cell_type": "code",
   "execution_count": null,
   "metadata": {},
   "outputs": [],
   "source": [
    "xx = np.linspace(-6, 6, 500)\n",
    "yy = 1 / (np.exp(-xx) + 1)\n",
    "\n",
    "plt.figure(figsize=(6,6))\n",
    "plt.ylim(-3, 3)\n",
    "plt.xlim(-3, 3)\n",
    "plt.xticks(np.linspace(-3,3,13))\n",
    "plt.yticks(np.linspace(-3,3,13))\n",
    "plt.xlabel('x', fontsize=14)\n",
    "plt.ylabel('y', fontsize=14)\n",
    "plt.grid()\n",
    "plt.plot(xx, yy, c='b', label=r'$\\dfrac{1}{1+\\exp{(-x)}}$', lw=1)\n",
    "plt.plot(xx, xx, c='k', label=r'$y = x$', lw=1)\n",
    "plt.plot([-3,3], [0,0], c='k')\n",
    "plt.plot([0,0], [-3,3],c='k')\n",
    "plt.plot([-3,3],[1,1],linestyle='-.',c='k')\n",
    "plt.legend(fontsize=14)\n",
    "plt.show()"
   ]
  },
  {
   "cell_type": "markdown",
   "metadata": {},
   "source": [
    "### 데이터 준비"
   ]
  },
  {
   "cell_type": "code",
   "execution_count": null,
   "metadata": {},
   "outputs": [],
   "source": [
    "# 학습용 데이터 준비\n",
    "from sklearn.datasets import load_iris\n",
    "iris = load_iris()\n",
    "x_org, y_org = iris.data, iris.target\n",
    "print('원본 데이터', x_org.shape, y_org.shape)"
   ]
  },
  {
   "cell_type": "code",
   "execution_count": null,
   "metadata": {},
   "outputs": [],
   "source": [
    "# 데이터 추출\n",
    "#   클래스 0, 1만\n",
    "#   항목 sepal_length과 sepal_width만\n",
    "x_data, y_data = iris.data[:100,:2], iris.target[:100]\n",
    "print('대상 데이터', x_data.shape, y_data.shape)"
   ]
  },
  {
   "cell_type": "code",
   "execution_count": null,
   "metadata": {},
   "outputs": [],
   "source": [
    "# 더미 변수를 추가\n",
    "x_data = np.insert(x_data, 0, 1.0, axis=1)\n",
    "print('더미 변수를 추가 한 후', x_data.shape)"
   ]
  },
  {
   "cell_type": "code",
   "execution_count": null,
   "metadata": {},
   "outputs": [],
   "source": [
    "# 원본 데이터의 크기\n",
    "print(x_data.shape, y_data.shape)\n",
    "# 학습 데이터, 검증 데이터로 분할 (셔플도 함께 실시)\n",
    "from sklearn.model_selection import train_test_split\n",
    "x_train, x_test, y_train, y_test = train_test_split(\n",
    "    x_data, y_data, train_size=70, test_size=30, \n",
    "    random_state=123)\n",
    "print(x_train.shape, x_test.shape, y_train.shape, y_test.shape)"
   ]
  },
  {
   "cell_type": "markdown",
   "metadata": {},
   "source": [
    "### 학습 데이터의 산점도 표시"
   ]
  },
  {
   "cell_type": "code",
   "execution_count": null,
   "metadata": {},
   "outputs": [],
   "source": [
    "# 산점도 표시\n",
    "x_t0 = x_train[y_train == 0]\n",
    "x_t1 = x_train[y_train == 1]\n",
    "plt.figure(figsize=(6,6))\n",
    "plt.scatter(x_t0[:,1], x_t0[:,2], marker='x', c='b', label='0 (setosa)')\n",
    "plt.scatter(x_t1[:,1], x_t1[:,2], marker='o', c='k', label='1 (versicolor)')\n",
    "plt.xlabel('sepal_length', fontsize=14)\n",
    "plt.ylabel('sepal_width', fontsize=14)\n",
    "plt.xticks(size=16)\n",
    "plt.yticks(size=16)\n",
    "plt.legend(fontsize=16)\n",
    "plt.show()"
   ]
  },
  {
   "cell_type": "code",
   "execution_count": null,
   "metadata": {},
   "outputs": [],
   "source": [
    "# 산점도 표시\n",
    "x_t0 = x_train[y_train == 0]\n",
    "x_t1 = x_train[y_train == 1]\n",
    "plt.figure(figsize=(6,6))\n",
    "plt.scatter(x_t0[:,1], x_t0[:,2], marker='x', s=50, c='b', label='yt = 0')\n",
    "plt.scatter(x_t1[:,1], x_t1[:,2], marker='o', s=50, c='k', label='yt = 1')\n",
    "plt.xlabel(r'$x_1$', fontsize=16)\n",
    "plt.ylabel(r'$x_2$', fontsize=16)\n",
    "plt.xticks(size=16)\n",
    "plt.yticks(size=16)\n",
    "plt.legend(fontsize=16)\n",
    "plt.show()"
   ]
  },
  {
   "cell_type": "markdown",
   "metadata": {},
   "source": [
    "### 학습용 변수 설정"
   ]
  },
  {
   "cell_type": "code",
   "execution_count": null,
   "metadata": {},
   "outputs": [],
   "source": [
    "# 학습용 변수 설정\n",
    "x = x_train\n",
    "yt = y_train"
   ]
  },
  {
   "cell_type": "code",
   "execution_count": null,
   "metadata": {},
   "outputs": [],
   "source": [
    "# 입력 데이터 x의 표시(더미 데이터를 포함)\n",
    "print(x[:5])"
   ]
  },
  {
   "cell_type": "code",
   "execution_count": null,
   "metadata": {},
   "outputs": [],
   "source": [
    "# 정답 데이터 y의 표시\n",
    "print(yt[:5])"
   ]
  },
  {
   "cell_type": "markdown",
   "metadata": {},
   "source": [
    "### 예측 함수"
   ]
  },
  {
   "cell_type": "code",
   "execution_count": null,
   "metadata": {},
   "outputs": [],
   "source": [
    "# 시그모이드 함수\n",
    "def sigmoid(x):\n",
    "    return 1/(1+ np.exp(-x))"
   ]
  },
  {
   "cell_type": "code",
   "execution_count": null,
   "metadata": {},
   "outputs": [],
   "source": [
    "# 예측값 계산\n",
    "def pred(x, w):\n",
    "    return sigmoid(x @ w)"
   ]
  },
  {
   "cell_type": "markdown",
   "metadata": {},
   "source": [
    "### 평가"
   ]
  },
  {
   "cell_type": "code",
   "execution_count": null,
   "metadata": {},
   "outputs": [],
   "source": [
    "# 손실함수(교차 엔트로피 함수)\n",
    "def cross_entropy(yt, yp):\n",
    "    # 교차 엔트로피의 계산 (이 단계에서는 벡터)\n",
    "    ce1 = -(yt * np.log(yp) + (1 - yt) * np.log(1 - yp))\n",
    "    # 교차 엔트로피 벡터의 평균값을 계산\n",
    "    return(np.mean(ce1)) "
   ]
  },
  {
   "cell_type": "code",
   "execution_count": null,
   "metadata": {},
   "outputs": [],
   "source": [
    "# 예측 결과의 확률값에서 0이나 1을 판단하는 함수\n",
    "def classify(y):\n",
    "    return np.where(y < 0.5, 0, 1)"
   ]
  },
  {
   "cell_type": "code",
   "execution_count": null,
   "metadata": {},
   "outputs": [],
   "source": [
    "# 모델을 평가하는 함수\n",
    "from sklearn.metrics import accuracy_score\n",
    "def evaluate(xt, yt, w):\n",
    "    \n",
    "    # 예측값 계산\n",
    "    yp = pred(xt, w)\n",
    "    \n",
    "    # 손실함수 값 계산\n",
    "    loss = cross_entropy(yt, yp)\n",
    "    \n",
    "    # 예측값(확률값)을 0이나 1로 변환\n",
    "    yp_b = classify(yp)\n",
    "    \n",
    "    # 정확도 산출\n",
    "    score = accuracy_score(yt, yp_b)\n",
    "    return loss, score"
   ]
  },
  {
   "cell_type": "markdown",
   "metadata": {},
   "source": [
    "### 초기화 처리"
   ]
  },
  {
   "cell_type": "code",
   "execution_count": null,
   "metadata": {
    "scrolled": true
   },
   "outputs": [],
   "source": [
    "# 초기화 처리\n",
    "\n",
    "# 표본 수\n",
    "M = x.shape[0]\n",
    "# 입력 차원수(더미 변수를 포함)\n",
    "D = x.shape[1]\n",
    "\n",
    "# 반복 횟수\n",
    "iters = 10000\n",
    "\n",
    "# 학습률\n",
    "alpha = 0.01\n",
    "\n",
    "# 초깃값\n",
    "w = np.ones(D)\n",
    "\n",
    "# 평가 결과 기록(손실함수와 정확도)\n",
    "history = np.zeros((0,3))"
   ]
  },
  {
   "cell_type": "markdown",
   "metadata": {},
   "source": [
    "### 주요 처리"
   ]
  },
  {
   "cell_type": "code",
   "execution_count": null,
   "metadata": {},
   "outputs": [],
   "source": [
    "# 반복 루프\n",
    "\n",
    "for k in range(iters):\n",
    "    \n",
    "    # 예측값 계산 (8.6.1), (8.6.2)\n",
    "    yp = pred(x, w)\n",
    "    \n",
    "    # 오차 계산 (8.6.4)\n",
    "    yd = yp - yt\n",
    "    \n",
    "    # 경사하강법 적용 (8.6.6)\n",
    "    w = w - alpha * (x.T @ yd) / M\n",
    "    \n",
    "    # 평가 결과 기록\n",
    "    if ( k % 10 == 0):\n",
    "        loss, score = evaluate(x_test, y_test, w)\n",
    "        history = np.vstack((history, \n",
    "            np.array([k, loss, score])))\n",
    "        print( \"iter = %d loss = %f score = %f\" \n",
    "            % (k, loss, score))"
   ]
  },
  {
   "cell_type": "markdown",
   "metadata": {},
   "source": [
    "### 결과 확인"
   ]
  },
  {
   "cell_type": "code",
   "execution_count": null,
   "metadata": {},
   "outputs": [],
   "source": [
    "# 손실함수의 값과 정확도 점검\n",
    "print('[초기 상태] 손실함수: %f, 정확도: %f'\n",
    "      % (history[0,1], history[0,2]))\n",
    "print('[최종 상태] 손실함수: %f, 정확도: %f'\n",
    "      % (history[-1,1], history[-1,2]))"
   ]
  },
  {
   "cell_type": "code",
   "execution_count": null,
   "metadata": {},
   "outputs": [],
   "source": [
    "# 검증 데이터를 산점도용으로 준비\n",
    "x_t0 = x_test[y_test==0]\n",
    "x_t1 = x_test[y_test==1]\n",
    "\n",
    "# 결정경계를 그리기 위해 x1의 값에서 x2의 값을 계산\n",
    "def b(x, w):\n",
    "    return(-(w[0] + w[1] * x)/ w[2])\n",
    "# 산점도 x1의 최솟값과 최댓값\n",
    "xl = np.asarray([x[:,1].min(), x[:,1].max()])\n",
    "yl = b(xl, w)"
   ]
  },
  {
   "cell_type": "code",
   "execution_count": null,
   "metadata": {},
   "outputs": [],
   "source": [
    "plt.figure(figsize=(6,6))\n",
    "# 산점도 표시\n",
    "plt.scatter(x_t0[:,1], x_t0[:,2], marker='x', \n",
    "        c='b', s=50, label='class 0')\n",
    "plt.scatter(x_t1[:,1], x_t1[:,2], marker='o', \n",
    "        c='k', s=50, label='class 1')\n",
    "# 산점도에 결정경계 직선을 추가\n",
    "plt.plot(xl, yl, c='b')\n",
    "plt.xlabel('sepal_length', fontsize=14)\n",
    "plt.ylabel('sepal_width', fontsize=14)\n",
    "plt.xticks(size=16)\n",
    "plt.yticks(size=16)\n",
    "plt.legend(fontsize=16)\n",
    "plt.show()"
   ]
  },
  {
   "cell_type": "code",
   "execution_count": null,
   "metadata": {},
   "outputs": [],
   "source": [
    "# 학습 곡선 표시 (손실 함수)\n",
    "plt.figure(figsize=(6,4))\n",
    "plt.plot(history[:,0], history[:,1], 'b')\n",
    "plt.xlabel('iter', fontsize=14)\n",
    "plt.ylabel('cost', fontsize=14)\n",
    "plt.title('iter vs cost', fontsize=14)\n",
    "plt.show()"
   ]
  },
  {
   "cell_type": "code",
   "execution_count": null,
   "metadata": {
    "scrolled": true
   },
   "outputs": [],
   "source": [
    "# 학습 곡선 표시 (정확도)\n",
    "plt.figure(figsize=(6,4))\n",
    "plt.plot(history[:,0], history[:,2], 'b')\n",
    "plt.xlabel('iter', fontsize=14)\n",
    "plt.ylabel('accuracy', fontsize=14)\n",
    "plt.title('iter vs accuracy', fontsize=14)\n",
    "plt.show()"
   ]
  },
  {
   "cell_type": "code",
   "execution_count": null,
   "metadata": {},
   "outputs": [],
   "source": [
    "from mpl_toolkits.mplot3d import Axes3D\n",
    "x1 = np.linspace(4, 7.5, 100)\n",
    "x2 = np.linspace(2, 4.5, 100)\n",
    "xx1, xx2 = np.meshgrid(x1, x2)\n",
    "xxx = np.asarray([np.ones(xx1.ravel().shape), \n",
    "    xx1.ravel(), xx2.ravel()]).T\n",
    "c = pred(xxx, w).reshape(xx1.shape)\n",
    "plt.figure(figsize=(8,8))\n",
    "ax = plt.subplot(1, 1, 1, projection='3d')\n",
    "ax.plot_surface(xx1, xx2, c, color='blue', \n",
    "    edgecolor='black', rstride=10, cstride=10, alpha=0.1)\n",
    "ax.scatter(x_t1[:,1], x_t1[:,2], 1, s=20, alpha=0.9, marker='o', c='b')\n",
    "ax.scatter(x_t0[:,1], x_t0[:,2], 0, s=20, alpha=0.9, marker='s', c='b')\n",
    "ax.set_xlim(4,7.5)\n",
    "ax.set_ylim(2,4.5)\n",
    "ax.view_init(elev=20, azim=60)"
   ]
  },
  {
   "cell_type": "markdown",
   "metadata": {},
   "source": [
    "## scikit-learn 라이브러리 사용"
   ]
  },
  {
   "cell_type": "code",
   "execution_count": null,
   "metadata": {},
   "outputs": [],
   "source": [
    "# 필요한 라이브러리를 로드\n",
    "from sklearn.linear_model import LogisticRegression\n",
    "from sklearn import svm\n",
    "\n",
    "# 모델 생성\n",
    "model_lr = LogisticRegression(solver='liblinear')\n",
    "model_svm = svm.SVC(kernel='linear')\n",
    "\n",
    "# 기계 학습 실시\n",
    "model_lr.fit(x, yt)\n",
    "model_svm.fit(x, yt)"
   ]
  },
  {
   "cell_type": "code",
   "execution_count": null,
   "metadata": {},
   "outputs": [],
   "source": [
    "# 선형 회귀\n",
    "# 절편의 값\n",
    "lr_w0 = model_lr.intercept_[0]\n",
    "# x1(sepal_length)의 계수\n",
    "lr_w1 = model_lr.coef_[0,1]\n",
    "# x2(sepal_width)의 계수\n",
    "lr_w2 = model_lr.coef_[0,2]\n",
    "\n",
    "# SVM\n",
    "# 절편의 값\n",
    "svm_w0 = model_svm.intercept_[0]\n",
    "# x1(sepal_length)의 계수\n",
    "svm_w1 = model_svm.coef_[0,1]\n",
    "# x2(sepal_width)의 계수\n",
    "svm_w2 = model_svm.coef_[0,2]"
   ]
  },
  {
   "cell_type": "code",
   "execution_count": null,
   "metadata": {},
   "outputs": [],
   "source": [
    "# 한계 직선 그리기용 x1의 값에서 x2의 값을 계산\n",
    "def rl(x):\n",
    "    wk = lr_w0 + lr_w1 * x\n",
    "    wk2 = -wk / lr_w2\n",
    "    return(wk2)"
   ]
  },
  {
   "cell_type": "code",
   "execution_count": null,
   "metadata": {},
   "outputs": [],
   "source": [
    "# 한계 직선 그리기용 x1의 값에서 x2의 값을 계산\n",
    "def svm(x):\n",
    "    wk = svm_w0 + svm_w1 * x\n",
    "    wk2 = -wk / svm_w2\n",
    "    return(wk2)"
   ]
  },
  {
   "cell_type": "code",
   "execution_count": null,
   "metadata": {},
   "outputs": [],
   "source": [
    "y_rl = rl(xl)\n",
    "y_svm = svm(xl)\n",
    "# 결과 확인\n",
    "print(xl, yl, y_rl, y_svm)"
   ]
  },
  {
   "cell_type": "code",
   "execution_count": null,
   "metadata": {},
   "outputs": [],
   "source": [
    "# 산점도에 한계 직선 추가\n",
    "fig = plt.figure(figsize=(6,6))\n",
    "ax = fig.add_subplot(1,1,1)\n",
    "# 산점도의 표시\n",
    "plt.scatter(x_t0[:,1], x_t0[:,2], marker='x', c='b')\n",
    "plt.scatter(x_t1[:,1], x_t1[:,2], marker='o', c='k')\n",
    "# 한계 직선의 표시\n",
    "ax.plot(xl, yl, linewidth=2, c='k', label='Hands On')\n",
    "# lr model\n",
    "ax.plot(xl, y_rl, linewidth=2, c='k', linestyle=\"--\", label='scikit LR')\n",
    "# svm\n",
    "ax.plot(xl, y_svm, linewidth=2, c='k', linestyle=\"-.\", label='scikit SVM')\n",
    "\n",
    "ax.legend()\n",
    "ax.set_xlabel('$x_1$', fontsize=16)\n",
    "ax.set_ylabel('$x_2$', fontsize=16)\n",
    "plt.show()"
   ]
  }
 ],
 "metadata": {
  "kernelspec": {
   "display_name": "Python 3",
   "language": "python",
   "name": "python3"
  },
  "language_info": {
   "codemirror_mode": {
    "name": "ipython",
    "version": 3
   },
   "file_extension": ".py",
   "mimetype": "text/x-python",
   "name": "python",
   "nbconvert_exporter": "python",
   "pygments_lexer": "ipython3",
   "version": "3.6.9"
  }
 },
 "nbformat": 4,
 "nbformat_minor": 1
}
