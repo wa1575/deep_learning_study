{
 "cells": [
  {
   "cell_type": "markdown",
   "metadata": {},
   "source": [
    "# 11장 실용적인 딥러닝을 위해"
   ]
  },
  {
   "cell_type": "code",
   "execution_count": null,
   "metadata": {},
   "outputs": [],
   "source": [
    "# 필요 라이브러리 선언\n",
    "%matplotlib inline\n",
    "import numpy as np\n",
    "import matplotlib.pyplot as plt\n",
    "import warnings\n",
    "warnings.filterwarnings('ignore')"
   ]
  },
  {
   "cell_type": "code",
   "execution_count": null,
   "metadata": {},
   "outputs": [],
   "source": [
    "# PDF 출력\n",
    "from IPython.display import set_matplotlib_formats\n",
    "set_matplotlib_formats('png', 'pdf')"
   ]
  },
  {
   "cell_type": "markdown",
   "metadata": {},
   "source": [
    "### 11.1 프레임워크의 활용"
   ]
  },
  {
   "cell_type": "code",
   "execution_count": null,
   "metadata": {},
   "outputs": [],
   "source": [
    "# 데이터 준비\n",
    "\n",
    "# 변수 정의\n",
    "\n",
    "# D: 입력 노드 개수\n",
    "D = 784\n",
    "\n",
    "# H: 은닉층의 노드 개수\n",
    "H = 128\n",
    "\n",
    "# 분류 클래스의 개수\n",
    "num_classes = 10\n",
    "\n",
    "# Keras 함수로 데이터 읽기\n",
    "from keras.datasets import mnist\n",
    "(x_train_org, y_train), (x_test_org, y_test) \\\n",
    " = mnist.load_data()\n",
    "\n",
    "# 입력 데이터의 가공(1차원)\n",
    "x_train = x_train_org.reshape(-1, D) / 255.0\n",
    "x_test = x_test_org.reshape((-1, D)) / 255.0\n",
    "\n",
    "# 정답 데이터의 가공(원핫 인코딩)\n",
    "from keras.utils import np_utils\n",
    "y_train_ohe =\\\n",
    " np_utils.to_categorical(y_train, num_classes)\n",
    "y_test_ohe =\\\n",
    " np_utils.to_categorical(y_test, num_classes)"
   ]
  },
  {
   "cell_type": "code",
   "execution_count": null,
   "metadata": {},
   "outputs": [],
   "source": [
    "# 모델의 정의\n",
    "\n",
    "# 필요 라이브러리 로딩\n",
    "from keras.models import Sequential\n",
    "from keras.layers import Dense\n",
    "\n",
    "# Sequential 모델의 정의\n",
    "model = Sequential()\n",
    "\n",
    "# 은닉층1의 정의\n",
    "model.add(Dense(H, activation='relu', input_shape=(D,)))\n",
    "\n",
    "# 은닉층2의 정의\n",
    "model.add(Dense(H, activation='relu'))\n",
    "\n",
    "# 출력층\n",
    "model.add(Dense(num_classes, activation='softmax'))\n",
    "\n",
    "# 모델의 컴파일\n",
    "model.compile(loss = 'categorical_crossentropy',\n",
    "              optimizer = 'sgd',\n",
    "              metrics=['accuracy'])"
   ]
  },
  {
   "cell_type": "code",
   "execution_count": null,
   "metadata": {
    "scrolled": true
   },
   "outputs": [],
   "source": [
    "# 학습 과정\n",
    "\n",
    "# 학습의 단위\n",
    "batch_size = 512\n",
    "\n",
    "# 반복 횟수\n",
    "nb_epoch = 50\n",
    "\n",
    "# 모델의 학습\n",
    "history1 = model.fit(\n",
    "    x_train, \n",
    "    y_train_ohe,\n",
    "    batch_size = batch_size, \n",
    "    epochs = nb_epoch,\n",
    "    verbose = 1, \n",
    "    validation_data = (x_test, y_test_ohe))"
   ]
  },
  {
   "cell_type": "markdown",
   "metadata": {},
   "source": [
    "## 11.4 수치미분"
   ]
  },
  {
   "cell_type": "code",
   "execution_count": null,
   "metadata": {},
   "outputs": [],
   "source": [
    "import numpy as np\n",
    "\n",
    "# 네이피어 상수를 밑으로 하는 로그함수의 정의\n",
    "def f(x):\n",
    "    return np.exp(x)\n",
    "\n",
    "# 아주 작은 수 h의 정의\n",
    "h = 0.001\n",
    "\n",
    "# f'(0)의 근사계산\n",
    "# f'(0) = f(0) = 1에 가까워짐\n",
    "diff = (f(0 + h) - f(0 - h))/(2 * h)\n",
    "\n",
    "# 결과 확인\n",
    "print(diff)"
   ]
  },
  {
   "cell_type": "markdown",
   "metadata": {},
   "source": [
    "## 11.5 고도의 학습법"
   ]
  },
  {
   "cell_type": "markdown",
   "metadata": {},
   "source": [
    "### SGD"
   ]
  },
  {
   "cell_type": "code",
   "execution_count": null,
   "metadata": {},
   "outputs": [],
   "source": [
    "# 필요 라이브러리 로딩\n",
    "from keras.models import Sequential\n",
    "from keras.layers import Dense\n",
    "\n",
    "# 학습의 단위\n",
    "batch_size = 512\n",
    "\n",
    "# 반복 횟수\n",
    "nb_epoch = 50"
   ]
  },
  {
   "cell_type": "code",
   "execution_count": null,
   "metadata": {},
   "outputs": [],
   "source": [
    "# Sequential 모델의 정의\n",
    "model = Sequential()\n",
    "\n",
    "# 은닉층1의 정의\n",
    "model.add(Dense(H, activation='relu', kernel_initializer='he_normal', input_shape=(D,)))\n",
    "\n",
    "# 은닉층2의 정의\n",
    "model.add(Dense(H, activation='relu', kernel_initializer='he_normal'))\n",
    "\n",
    "# 출력층\n",
    "model.add(Dense(num_classes, activation='softmax', kernel_initializer='he_normal'))"
   ]
  },
  {
   "cell_type": "code",
   "execution_count": null,
   "metadata": {
    "scrolled": true
   },
   "outputs": [],
   "source": [
    "# 모델의 컴파일\n",
    "model.compile(loss = 'categorical_crossentropy',\n",
    "              optimizer = 'sgd',\n",
    "              metrics=['accuracy'])\n",
    "\n",
    "# 모델의 학습\n",
    "history1 = model.fit(\n",
    "    x_train, \n",
    "    y_train_ohe,\n",
    "    batch_size = batch_size, \n",
    "    epochs = nb_epoch,\n",
    "    verbose = 1, \n",
    "    validation_data = (x_test, y_test_ohe))"
   ]
  },
  {
   "cell_type": "markdown",
   "metadata": {},
   "source": [
    "### RmsProp"
   ]
  },
  {
   "cell_type": "code",
   "execution_count": null,
   "metadata": {},
   "outputs": [],
   "source": [
    "# Sequential 모델의 정의\n",
    "model = Sequential()\n",
    "\n",
    "# 은닉층1의 정의\n",
    "model.add(Dense(H, activation='relu', kernel_initializer='he_normal', input_shape=(D,)))\n",
    "\n",
    "# 은닉층2의 정의\n",
    "model.add(Dense(H, activation='relu', kernel_initializer='he_normal'))\n",
    "\n",
    "# 출력층\n",
    "model.add(Dense(num_classes, activation='softmax', kernel_initializer='he_normal'))"
   ]
  },
  {
   "cell_type": "code",
   "execution_count": null,
   "metadata": {
    "scrolled": true
   },
   "outputs": [],
   "source": [
    "# 모델의 컴파일\n",
    "model.compile(loss = 'categorical_crossentropy',\n",
    "              optimizer = 'rmsprop',\n",
    "              metrics=['accuracy'])\n",
    "\n",
    "# 모델의 학습\n",
    "history2 = model.fit(\n",
    "    x_train, \n",
    "    y_train_ohe,\n",
    "    batch_size = batch_size, \n",
    "    epochs = nb_epoch,\n",
    "    verbose = 1, \n",
    "    validation_data = (x_test, y_test_ohe))"
   ]
  },
  {
   "cell_type": "markdown",
   "metadata": {},
   "source": [
    "### Momentum"
   ]
  },
  {
   "cell_type": "code",
   "execution_count": null,
   "metadata": {},
   "outputs": [],
   "source": [
    "# Sequential 모델의 정의\n",
    "model = Sequential()\n",
    "\n",
    "# 은닉층1의 정의\n",
    "model.add(Dense(H, activation='relu', kernel_initializer='he_normal', input_shape=(D,)))\n",
    "\n",
    "# 은닉층2의 정의\n",
    "model.add(Dense(H, activation='relu', kernel_initializer='he_normal'))\n",
    "\n",
    "# 출력층\n",
    "model.add(Dense(num_classes, activation='softmax', kernel_initializer='he_normal'))"
   ]
  },
  {
   "cell_type": "code",
   "execution_count": null,
   "metadata": {
    "scrolled": true
   },
   "outputs": [],
   "source": [
    "# 모델의 컴파일\n",
    "from keras import optimizers\n",
    "sgd = optimizers.SGD(momentum = 0.9)\n",
    "model.compile(loss = 'categorical_crossentropy',\n",
    "              optimizer = sgd,\n",
    "              metrics=['accuracy'])\n",
    "\n",
    "# 모델의 학습\n",
    "history3 = model.fit(\n",
    "    x_train, \n",
    "    y_train_ohe,\n",
    "    batch_size = batch_size, \n",
    "    epochs = nb_epoch,\n",
    "    verbose = 1, \n",
    "    validation_data = (x_test, y_test_ohe))"
   ]
  },
  {
   "cell_type": "markdown",
   "metadata": {},
   "source": [
    "### 그래프 표시 및 비교"
   ]
  },
  {
   "cell_type": "code",
   "execution_count": null,
   "metadata": {},
   "outputs": [],
   "source": [
    "#import matplotlib.pyplot as plt\n",
    "\n",
    "# 학습 곡선 표시(손실함수의 값)\n",
    "plt.figure(figsize=(8,6))\n",
    "plt.plot(history1.history['val_loss'],label='SGD', lw=3, c='k')\n",
    "plt.plot(history2.history['val_loss'],label='rmsprop', lw=3, c='b')\n",
    "plt.plot(history3.history['val_loss'],label='momentum', lw=3, c='k', linestyle='dashed')\n",
    "plt.ylim(0,2)\n",
    "plt.xticks(size=14)\n",
    "plt.yticks(size=14)\n",
    "plt.grid(lw=2)\n",
    "plt.legend(fontsize=14)\n",
    "plt.show()"
   ]
  },
  {
   "cell_type": "code",
   "execution_count": null,
   "metadata": {},
   "outputs": [],
   "source": [
    "import matplotlib.pyplot as plt\n",
    "\n",
    "# 학습 곡선 표시(정확도)\n",
    "plt.figure(figsize=(8,6))\n",
    "plt.plot(history1.history['accuracy'],label='SGD', lw=3, c='k')\n",
    "plt.plot(history2.history['accuracy'],label='rmsprop', lw=3, c='b')\n",
    "plt.plot(history3.history['accuracy'],label='momentum', lw=3, c='k', linestyle='dashed')\n",
    "plt.ylim(0.8,1)\n",
    "plt.xticks(size=14)\n",
    "plt.yticks(size=14)\n",
    "plt.grid(lw=2)\n",
    "plt.legend(fontsize=14)\n",
    "plt.show()"
   ]
  },
  {
   "cell_type": "markdown",
   "metadata": {},
   "source": [
    "## 11.6 과학습 대책"
   ]
  },
  {
   "cell_type": "code",
   "execution_count": null,
   "metadata": {},
   "outputs": [],
   "source": [
    "# 정답 데이터의 데이터 수\n",
    "div = 8\n",
    "\n",
    "# 근사다항식의 차원\n",
    "dim = 8\n",
    "\n",
    "# y = -x*4 + x**3 -3x**2 + 8x -7\n",
    "p = [-1, 1, -3, 8, -7]\n",
    "\n",
    "# x의 정의역[-2, 1]\n",
    "xMin = -2\n",
    "xMax = 1"
   ]
  },
  {
   "cell_type": "markdown",
   "metadata": {},
   "source": [
    "$ f(x) = -x^4 + x^3 -3x^2 + 8x -7 + N(0,5) $"
   ]
  },
  {
   "cell_type": "code",
   "execution_count": null,
   "metadata": {},
   "outputs": [],
   "source": [
    "# x: xMin과 xMan의 사이를 div개로 분할한 벡터\n",
    "x = np.linspace(xMin, xMax, num=div)\n",
    "\n",
    "# xx: x를 10배 더 세밀한 간격으로 분할한 벡터\n",
    "xx = np.linspace(xMin, xMax, num=div*10)\n",
    "\n",
    "# y, yy: x, xx 각각의 벡터에 대해 다항식의 값을 계산한 벡터\n",
    "y = np.polyval(p, x)\n",
    "yy = np.polyval(p, xx)\n",
    "\n",
    "# z: y에 정규분포의 노이즈를 추가하고 이것을 정답 데이터고 한다.\n",
    "z = y + 5 * np.random.randn(div)"
   ]
  },
  {
   "cell_type": "code",
   "execution_count": null,
   "metadata": {},
   "outputs": [],
   "source": [
    "# 벡터 표시용 함수\n",
    "def print_fix(x):\n",
    "    [print('{:.3f}'.format(n)) for n in x]\n",
    "    \n",
    "# 모델을 인용하여 다항식의 계산을 표시\n",
    "def print_fix_model(m):\n",
    "    w = m.coef_.tolist()\n",
    "    w[0] = m.intercept_\n",
    "    print_fix(w)    "
   ]
  },
  {
   "cell_type": "code",
   "execution_count": null,
   "metadata": {},
   "outputs": [],
   "source": [
    "# 다항식 행렬을 만들어 모델의 입력 변수로 한다.\n",
    "\n",
    "# x**n의 벡터 계산용 함수\n",
    "def f(x) :\n",
    "    return [x**i for i in range(dim)]\n",
    "\n",
    "# x: x벡터에서 다항식 2차원 배열을 만든 것\n",
    "X = [f(x0) for x0 in x]\n",
    "\n",
    "# Xx: xx벡터에서 다항식 2차원 배열을 만든 것\n",
    "XX = [f(x0) for x0 in xx]"
   ]
  },
  {
   "cell_type": "code",
   "execution_count": null,
   "metadata": {},
   "outputs": [],
   "source": [
    "# 선형 모델 라이브러리의 로딩\n",
    "from sklearn.linear_model import LinearRegression\n",
    "\n",
    "# 모델의 초기화 및 학습\n",
    "model = LinearRegression().fit(X, z)\n",
    "\n",
    "# 예측값의 취득\n",
    "yy_pred = model.predict(XX)"
   ]
  },
  {
   "cell_type": "code",
   "execution_count": null,
   "metadata": {},
   "outputs": [],
   "source": [
    "# Ridge 모델 라이브러리의 로딩\n",
    "from sklearn.linear_model import Ridge\n",
    "\n",
    "# 모델의 생성 및 학습\n",
    "#model2 = Ridge(alpha=5).fit(X, z)\n",
    "model2 = Ridge(alpha=0.5).fit(X, z)"
   ]
  },
  {
   "cell_type": "code",
   "execution_count": null,
   "metadata": {},
   "outputs": [],
   "source": [
    "# 예측값의 취득\n",
    "yy_pred2 = model2.predict(XX)"
   ]
  },
  {
   "cell_type": "code",
   "execution_count": null,
   "metadata": {},
   "outputs": [],
   "source": [
    "# 그래프 표시\n",
    "plt.figure(figsize=(8,6))\n",
    "plt.plot(xx, yy, label='polynomial', lw=1, c='k')\n",
    "plt.scatter(x, z, label='observed', s=50, c='k')\n",
    "plt.plot(xx, yy_pred, label='linear regression', lw=3, c='k')\n",
    "plt.plot(xx, yy_pred2, label='L2 regularizer', lw=3, c='b')\n",
    "plt.xlabel('X')\n",
    "plt.ylabel('Y')\n",
    "plt.xticks(size=14)\n",
    "plt.yticks(size=14)\n",
    "plt.grid(lw=2)\n",
    "plt.legend(fontsize=14)\n",
    "plt.show()"
   ]
  }
 ],
 "metadata": {
  "kernelspec": {
   "display_name": "Python 3",
   "language": "python",
   "name": "python3"
  },
  "language_info": {
   "codemirror_mode": {
    "name": "ipython",
    "version": 3
   },
   "file_extension": ".py",
   "mimetype": "text/x-python",
   "name": "python",
   "nbconvert_exporter": "python",
   "pygments_lexer": "ipython3",
   "version": "3.6.9"
  }
 },
 "nbformat": 4,
 "nbformat_minor": 2
}
