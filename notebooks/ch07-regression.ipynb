{
 "cells": [
  {
   "cell_type": "markdown",
   "metadata": {},
   "source": [
    "# 7장 선형회귀 모델\n",
    "## 7.9 프로그램 구현"
   ]
  },
  {
   "cell_type": "code",
   "execution_count": null,
   "metadata": {},
   "outputs": [],
   "source": [
    "# 필요 라이브러리 선언\n",
    "%matplotlib inline\n",
    "import numpy as np\n",
    "import matplotlib.pyplot as plt"
   ]
  },
  {
   "cell_type": "code",
   "execution_count": null,
   "metadata": {},
   "outputs": [],
   "source": [
    "# PDF 출력\n",
    "from IPython.display import set_matplotlib_formats\n",
    "set_matplotlib_formats('png', 'pdf')"
   ]
  },
  {
   "cell_type": "code",
   "execution_count": null,
   "metadata": {},
   "outputs": [],
   "source": [
    "from sklearn.datasets import load_boston\n",
    "# 학습용 데이터 준비\n",
    "boston = load_boston()\n",
    "x_org, yt = boston.data, boston.target\n",
    "feature_names = boston.feature_names\n",
    "print('원본 데이터', x_org.shape, yt.shape)\n",
    "print('항목 이름: ', feature_names)\n",
    "\n",
    "# RM 데이터\n",
    "x_data = x_org[:,feature_names == 'RM']\n",
    "print('RM 데이터', x_data.shape)\n",
    "\n",
    "# 더미 변수 추가\n",
    "x = np.insert(x_data, 0, 1.0, axis=1)\n",
    "print('더미 변수 추가 후의 RM 데이터', x.shape)"
   ]
  },
  {
   "cell_type": "code",
   "execution_count": null,
   "metadata": {},
   "outputs": [],
   "source": [
    "# 입력 데이터 x를 표시 (더미 변수 포함)\n",
    "print(x.shape)\n",
    "print(x[:5,:])"
   ]
  },
  {
   "cell_type": "code",
   "execution_count": null,
   "metadata": {},
   "outputs": [],
   "source": [
    "# 정답값 yt를 표시\n",
    "print(yt[:5])"
   ]
  },
  {
   "cell_type": "code",
   "execution_count": null,
   "metadata": {},
   "outputs": [],
   "source": [
    "# 산점도를 표시\n",
    "plt.scatter(x[:,1], yt, s=10, c='b')\n",
    "plt.xlabel('ROOM', fontsize=14)\n",
    "plt.ylabel('PRICE', fontsize=14)\n",
    "plt.show()"
   ]
  },
  {
   "cell_type": "code",
   "execution_count": null,
   "metadata": {},
   "outputs": [],
   "source": [
    "# 예측함수 (1, x)의 값에서 예측값 yp를 계산\n",
    "def pred(x, w):\n",
    "    return(x @ w)"
   ]
  },
  {
   "cell_type": "code",
   "execution_count": null,
   "metadata": {},
   "outputs": [],
   "source": [
    "# 초기화 처리\n",
    "\n",
    "# 데이터 전체 건수\n",
    "M = x.shape[0]\n",
    "\n",
    "# 입력 데이터의 차수 (더미 변수 포함)\n",
    "D = x.shape[1]\n",
    "\n",
    "# 반복 횟수\n",
    "iters = 50000\n",
    "\n",
    "# 학습률\n",
    "alpha = 0.01\n",
    "\n",
    "# 가중치 벡터의 초깃값 (모든 값을 1로 한다)\n",
    "w = np.ones(D)\n",
    "\n",
    "# 평가 결과 기록 (손실함수의 값만 기록)\n",
    "history = np.zeros((0,2))"
   ]
  },
  {
   "cell_type": "code",
   "execution_count": null,
   "metadata": {},
   "outputs": [],
   "source": [
    "# 반복 루프\n",
    "for k in range(iters):\n",
    "    \n",
    "    # 예측값 계산 (7.8.1)\n",
    "    yp = pred(x, w)\n",
    "    \n",
    "    # 오차 계산 (7.8.2)\n",
    "    yd = yp - yt\n",
    "    \n",
    "    # 경사하강법 적용 (7.8.4)\n",
    "    w = w - alpha * (x.T @ yd) / M\n",
    "    \n",
    "    # 학습 곡선을 그리기 위한 데이터 계산 및 저장\n",
    "    if (k % 100 == 0):\n",
    "        # 손실함숫값의 계산 (7.6.1)\n",
    "        loss = np.mean(yd ** 2) / 2\n",
    "        # 계산 결과의 기록\n",
    "        history = np.vstack((history, np.array([k, loss])))\n",
    "        # 화면 표시\n",
    "        print( \"iter = %d loss = %f\" % (k, loss))"
   ]
  },
  {
   "cell_type": "code",
   "execution_count": null,
   "metadata": {},
   "outputs": [],
   "source": [
    "# 최종 손실함수 초깃값, 최종값\n",
    "print('손실함수 초깃값: %f' % history[0,1])\n",
    "print('손실함수 최종값: %f' % history[-1,1])"
   ]
  },
  {
   "cell_type": "code",
   "execution_count": null,
   "metadata": {},
   "outputs": [],
   "source": [
    "# 다음 직선을 그리기 위한 좌푯값 계산\n",
    "xall = x[:,1].ravel()\n",
    "xl = np.array([[1, xall.min()],[1, xall.max()]])\n",
    "yl = pred(xl, w)"
   ]
  },
  {
   "cell_type": "code",
   "execution_count": null,
   "metadata": {},
   "outputs": [],
   "source": [
    "# 산점도와 회귀 직선 그리기\n",
    "plt.figure(figsize=(6,6))\n",
    "plt.scatter(x[:,1], yt, s=10, c='b')\n",
    "plt.xlabel('ROOM', fontsize=14)\n",
    "plt.ylabel('PRICE', fontsize=14)\n",
    "plt.plot(xl[:,1], yl, c='k')\n",
    "plt.show()"
   ]
  },
  {
   "cell_type": "code",
   "execution_count": null,
   "metadata": {},
   "outputs": [],
   "source": [
    "# 학습 곡선을 표시 (첫 1개분 제외)\n",
    "plt.plot(history[1:,0], history[1:,1])\n",
    "plt.show()"
   ]
  },
  {
   "cell_type": "markdown",
   "metadata": {},
   "source": [
    "## 7.10 다중회귀 모델로 확장"
   ]
  },
  {
   "cell_type": "code",
   "execution_count": null,
   "metadata": {},
   "outputs": [],
   "source": [
    "# 열(LSTAT: 저소득층 비율) 추가\n",
    "x_add = x_org[:,feature_names == 'LSTAT']\n",
    "x2 = np.hstack((x, x_add))\n",
    "print(x2.shape)"
   ]
  },
  {
   "cell_type": "code",
   "execution_count": null,
   "metadata": {},
   "outputs": [],
   "source": [
    "# 입력 데이터 x를 표시 (더미 데이터 포함)\n",
    "print(x2[:5,:])"
   ]
  },
  {
   "cell_type": "code",
   "execution_count": null,
   "metadata": {},
   "outputs": [],
   "source": [
    "# 초기화 처리\n",
    "\n",
    "# 데이터 전체 건수\n",
    "M = x2.shape[0]\n",
    "\n",
    "# 입력 데이터의 차원 수 (더미 변수 포함)\n",
    "D = x2.shape[1]\n",
    "\n",
    "# 반복 횟수\n",
    "iters = 50000\n",
    "\n",
    "# 학습률\n",
    "alpha = 0.01\n",
    "\n",
    "# 가중치 벡터의 초깃값 (모든 값을 1로 한다)\n",
    "w = np.ones(D)\n",
    "\n",
    "# 평가 결과 기록 (손실함수의 값만 기록)\n",
    "history = np.zeros((0,2))"
   ]
  },
  {
   "cell_type": "code",
   "execution_count": null,
   "metadata": {},
   "outputs": [],
   "source": [
    "# 반복 루프\n",
    "for k in range(iters):\n",
    "    \n",
    "    # 예측값 계산 (7.8.1)\n",
    "    yp = pred(x2, w)\n",
    "    \n",
    "    # 오차 계산 (7.8.2)\n",
    "    yd = yp - yt\n",
    "    \n",
    "    # 경사하강법 적용 (7.8.4)\n",
    "    w = w - alpha * (x2.T @ yd) / M\n",
    "    \n",
    "    # 학습 곡선 그리기용 데이터의 계산과 저장\n",
    "    if (k % 100 == 0):\n",
    "        # 손실함숫값의 계산 (7.6.1)\n",
    "        loss = np.mean(yd ** 2) / 2\n",
    "        # 계산 결과의 기록\n",
    "        history = np.vstack((history, np.array([k, loss])))\n",
    "        # 화면 표시\n",
    "        print( \"iter = %d loss = %f\" % (k, loss))"
   ]
  },
  {
   "cell_type": "code",
   "execution_count": null,
   "metadata": {},
   "outputs": [],
   "source": [
    "# 초기화 처리 (매개변수를 적절한 값으로 변경)\n",
    "\n",
    "# 데이터 전체 건수\n",
    "M = x2.shape[0]\n",
    "\n",
    "# 입력 데이터의 차원 수 (더미 변수를 포함)\n",
    "D = x2.shape[1]\n",
    "\n",
    "# 반복 횟수\n",
    "#iters = 50000\n",
    "iters = 2000\n",
    "\n",
    "# 학습률\n",
    "#alpha = 0.01\n",
    "alpha = 0.001\n",
    "\n",
    "# 가중치 벡터의 초깃값 (모든 값을 1로 한다)\n",
    "w = np.ones(D)\n",
    "\n",
    "# 평가 결과 기록 (손실함수의 값만 기록)\n",
    "history = np.zeros((0,2))"
   ]
  },
  {
   "cell_type": "code",
   "execution_count": null,
   "metadata": {},
   "outputs": [],
   "source": [
    "# 반복 루프\n",
    "for k in range(iters):\n",
    "    \n",
    "    # 예측값 계산 (7.8.1)\n",
    "    yp = pred(x2, w)\n",
    "    \n",
    "    # 오차 계산 (7.8.2)\n",
    "    yd = yp - yt\n",
    "    \n",
    "    # 경사하강법 적용 (7.8.4)\n",
    "    w = w - alpha * (x2.T @ yd) / M\n",
    "    \n",
    "    # 학습 곡선 그리기용 데이터의 계산과 저장\n",
    "    if (k % 100 == 0):\n",
    "        # 손실함숫값의 계산 (7.6.1)\n",
    "        loss = np.mean(yd ** 2) / 2\n",
    "        # 계산 결과의 기록\n",
    "        history = np.vstack((history, np.array([k, loss])))\n",
    "        # 화면 표시\n",
    "        print( \"iter = %d loss = %f\" % (k, loss))"
   ]
  },
  {
   "cell_type": "code",
   "execution_count": null,
   "metadata": {
    "scrolled": true
   },
   "outputs": [],
   "source": [
    "# 최종 손실함수 초깃값과 최종값\n",
    "print('손실함수 초깃값: %f' % history[0,1])\n",
    "print('손실함수 최종값: %f' % history[-1,1])"
   ]
  },
  {
   "cell_type": "code",
   "execution_count": null,
   "metadata": {},
   "outputs": [],
   "source": [
    "# 학습 곡선을 표시(처음 10개분 제외)\n",
    "plt.plot(history[:,0], history[:,1])\n",
    "plt.show()"
   ]
  }
 ],
 "metadata": {
  "kernelspec": {
   "display_name": "Python 3",
   "language": "python",
   "name": "python3"
  },
  "language_info": {
   "codemirror_mode": {
    "name": "ipython",
    "version": 3
   },
   "file_extension": ".py",
   "mimetype": "text/x-python",
   "name": "python",
   "nbconvert_exporter": "python",
   "pygments_lexer": "ipython3",
   "version": "3.6.9"
  }
 },
 "nbformat": 4,
 "nbformat_minor": 1
}
