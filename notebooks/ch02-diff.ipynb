{
 "cells": [
  {
   "cell_type": "markdown",
   "metadata": {
    "collapsed": true
   },
   "source": [
    "# 2장 미분과 적분"
   ]
  },
  {
   "cell_type": "markdown",
   "metadata": {},
   "source": [
    "## 2.1 함수"
   ]
  },
  {
   "cell_type": "code",
   "execution_count": null,
   "metadata": {},
   "outputs": [],
   "source": [
    "# 필요 라이브러리 선언\n",
    "%matplotlib inline\n",
    "import numpy as np\n",
    "import matplotlib.pyplot as plt"
   ]
  },
  {
   "cell_type": "code",
   "execution_count": null,
   "metadata": {},
   "outputs": [],
   "source": [
    "# PDF 출력\n",
    "from IPython.display import set_matplotlib_formats\n",
    "set_matplotlib_formats('png', 'pdf')"
   ]
  },
  {
   "cell_type": "code",
   "execution_count": null,
   "metadata": {},
   "outputs": [],
   "source": [
    "def f(x):\n",
    "    return x**2 +1"
   ]
  },
  {
   "cell_type": "code",
   "execution_count": null,
   "metadata": {},
   "outputs": [],
   "source": [
    "f(1)"
   ]
  },
  {
   "cell_type": "code",
   "execution_count": null,
   "metadata": {},
   "outputs": [],
   "source": [
    "f(2)"
   ]
  },
  {
   "cell_type": "markdown",
   "metadata": {},
   "source": [
    "### 그림 2-2 점 (X, F(X))의 플롯(첫 번째, 두 번째)과 Y = F(X)의 그래프(세 번째)"
   ]
  },
  {
   "cell_type": "code",
   "execution_count": null,
   "metadata": {},
   "outputs": [],
   "source": [
    "x = np.linspace(-3, 3, 601)\n",
    "y = f(x)"
   ]
  },
  {
   "cell_type": "code",
   "execution_count": null,
   "metadata": {},
   "outputs": [],
   "source": [
    "x1 = np.linspace(-3, 3, 7)\n",
    "y1 = f(x1)\n",
    "plt.figure(figsize=(6,6))\n",
    "plt.ylim(-2,10)\n",
    "plt.plot([-3,3],[0,0],c='k')\n",
    "plt.plot([0,0],[-2,10],c='k')\n",
    "plt.scatter(x1,y1,c='k',s=50)\n",
    "plt.grid()\n",
    "plt.xlabel('x',fontsize=14)\n",
    "plt.ylabel('y',fontsize=14)\n",
    "plt.show()"
   ]
  },
  {
   "cell_type": "code",
   "execution_count": null,
   "metadata": {},
   "outputs": [],
   "source": [
    "x2 = np.linspace(-3, 3, 31)\n",
    "y2 = f(x2)\n",
    "plt.figure(figsize=(6,6))\n",
    "plt.ylim(-2,10)\n",
    "plt.plot([-3,3],[0,0],c='k')\n",
    "plt.plot([0,0],[-2,10],c='k')\n",
    "plt.scatter(x2,y2,c='k',s=50)\n",
    "plt.grid()\n",
    "plt.xlabel('x',fontsize=14)\n",
    "plt.ylabel('y',fontsize=14)\n",
    "plt.show()"
   ]
  },
  {
   "cell_type": "code",
   "execution_count": null,
   "metadata": {},
   "outputs": [],
   "source": [
    "plt.figure(figsize=(6,6))\n",
    "plt.plot(x,y,c='k')\n",
    "plt.ylim(-2,10)\n",
    "plt.plot([-3,3],[0,0],c='k')\n",
    "plt.plot([0,0],[-2,10],c='k')\n",
    "plt.scatter([1,2],[2,5],c='k',s=50)\n",
    "plt.grid()\n",
    "plt.xlabel('x',fontsize=14)\n",
    "plt.ylabel('y',fontsize=14)\n",
    "plt.show()"
   ]
  },
  {
   "cell_type": "markdown",
   "metadata": {},
   "source": [
    "## 2.2 합성함수와 역함수"
   ]
  },
  {
   "cell_type": "markdown",
   "metadata": {},
   "source": [
    "### 그림 2.6 역함수의 그래프"
   ]
  },
  {
   "cell_type": "code",
   "execution_count": null,
   "metadata": {},
   "outputs": [],
   "source": [
    "def f(x):\n",
    "    return(x**2 + 1)\n",
    "def g(x):\n",
    "    return(np.sqrt(x - 1))"
   ]
  },
  {
   "cell_type": "code",
   "execution_count": null,
   "metadata": {},
   "outputs": [],
   "source": [
    "xx1 = np.linspace(0.0, 4.0, 200)\n",
    "xx2 = np.linspace(1.0, 4.0, 200)\n",
    "yy1 = f(xx1)\n",
    "yy2 = g(xx2)"
   ]
  },
  {
   "cell_type": "code",
   "execution_count": null,
   "metadata": {},
   "outputs": [],
   "source": [
    "plt.figure(figsize=(6,6))\n",
    "plt.xlabel('$x$',fontsize=14)\n",
    "plt.ylabel('$y$',fontsize=14)\n",
    "plt.ylim(-2.0, 4.0)\n",
    "plt.xlim(-2.0, 4.0)\n",
    "plt.grid()\n",
    "plt.plot(xx1,yy1, linestyle='-', c='k', label='$y=x^2+1$')\n",
    "plt.plot(xx2,yy2, linestyle='-.', c='k', label='$y=\\sqrt{x-1}$')\n",
    "plt.plot([-2,4],[-2,4], color='black')\n",
    "plt.plot([-2,4],[0,0], color='black')\n",
    "plt.plot([0,0],[-2,4],color='black')\n",
    "plt.legend(fontsize=14)\n",
    "plt.show()"
   ]
  },
  {
   "cell_type": "markdown",
   "metadata": {},
   "source": [
    "## 2.3 미분과 극한"
   ]
  },
  {
   "cell_type": "markdown",
   "metadata": {},
   "source": [
    "### 그림 2-7 함수의 그래프를 확대했을 때의 모습"
   ]
  },
  {
   "cell_type": "code",
   "execution_count": null,
   "metadata": {},
   "outputs": [],
   "source": [
    "from matplotlib import pyplot as plt\n",
    "import numpy as np"
   ]
  },
  {
   "cell_type": "code",
   "execution_count": null,
   "metadata": {},
   "outputs": [],
   "source": [
    "def f(x):\n",
    "    return(x**3 - x)"
   ]
  },
  {
   "cell_type": "code",
   "execution_count": null,
   "metadata": {},
   "outputs": [],
   "source": [
    "delta = 2.0\n",
    "x = np.linspace(0.5-delta, 0.5+delta, 200)\n",
    "y = f(x)\n",
    "fig = plt.figure(figsize=(6,6))\n",
    "plt.ylim(-3.0/8.0-delta, -3.0/8.0+delta)\n",
    "plt.xlim(0.5-delta, 0.5+delta)\n",
    "plt.plot(x, y, 'b-', lw=1, c='k')\n",
    "plt.scatter([0.5], [-3.0/8.0])\n",
    "plt.xlabel('x',fontsize=14)\n",
    "plt.ylabel('y',fontsize=14)\n",
    "plt.grid()\n",
    "plt.title('delta = %.4f' % delta, fontsize=14)\n",
    "plt.show()"
   ]
  },
  {
   "cell_type": "code",
   "execution_count": null,
   "metadata": {},
   "outputs": [],
   "source": [
    "delta = 0.2\n",
    "x = np.linspace(0.5-delta, 0.5+delta, 200)\n",
    "y = f(x)\n",
    "fig = plt.figure(figsize=(6,6))\n",
    "plt.ylim(-3.0/8.0-delta, -3.0/8.0+delta)\n",
    "plt.xlim(0.5-delta, 0.5+delta)\n",
    "plt.plot(x, y, 'b-', lw=1, c='k')\n",
    "plt.scatter([0.5], [-3.0/8.0])\n",
    "plt.xlabel('x',fontsize=14)\n",
    "plt.ylabel('y',fontsize=14)\n",
    "plt.grid()\n",
    "plt.title('delta = %.4f' % delta, fontsize=14)\n",
    "plt.show()"
   ]
  },
  {
   "cell_type": "code",
   "execution_count": null,
   "metadata": {},
   "outputs": [],
   "source": [
    "delta = 0.01\n",
    "x = np.linspace(0.5-delta, 0.5+delta, 200)\n",
    "y = f(x)\n",
    "fig = plt.figure(figsize=(6,6))\n",
    "plt.ylim(-3.0/8.0-delta, -3.0/8.0+delta)\n",
    "plt.xlim(0.5-delta, 0.5+delta)\n",
    "plt.plot(x, y, 'b-', lw=1, c='k')\n",
    "plt.scatter(0.5, -3.0/8.0)\n",
    "plt.xlabel('x',fontsize=14)\n",
    "plt.ylabel('y',fontsize=14)\n",
    "plt.grid()\n",
    "plt.title('delta = %.4f' % delta, fontsize=14)\n",
    "plt.show()"
   ]
  },
  {
   "cell_type": "markdown",
   "metadata": {},
   "source": [
    "### 그림 2-8 함수의 그래프에서 두 점을 연결한 직선의 기울기"
   ]
  },
  {
   "cell_type": "code",
   "execution_count": null,
   "metadata": {},
   "outputs": [],
   "source": [
    "delta = 2.0\n",
    "x = np.linspace(0.5-delta, 0.5+delta, 200)\n",
    "x1 = 0.6\n",
    "x2 = 1.0\n",
    "y = f(x)\n",
    "fig = plt.figure(figsize=(6,6))\n",
    "plt.ylim(-1, 0.5)\n",
    "plt.xlim(0, 1.5)\n",
    "plt.plot(x, y, 'b-', lw=1, c='k')\n",
    "plt.scatter([x1, x2], [f(x1), f(x2)], c='k', lw=1)\n",
    "plt.plot([x1, x2], [f(x1), f(x2)], c='k', lw=1)\n",
    "plt.plot([x1, x2, x2], [f(x1), f(x1), f(x2)], c='k', lw=1)\n",
    "plt.tick_params(labelbottom=False, labelleft=False, labelright=False, labeltop=False)\n",
    "plt.tick_params(color='white')\n",
    "plt.show()"
   ]
  },
  {
   "cell_type": "markdown",
   "metadata": {},
   "source": [
    "### 그림 2-10 접선의 방정식"
   ]
  },
  {
   "cell_type": "code",
   "execution_count": null,
   "metadata": {},
   "outputs": [],
   "source": [
    "def f(x):\n",
    "    return(x**2 - 4*x)\n",
    "def g(x):\n",
    "    return(-2*x -1)"
   ]
  },
  {
   "cell_type": "code",
   "execution_count": null,
   "metadata": {},
   "outputs": [],
   "source": [
    "x = np.linspace(-2, 6, 500)\n",
    "fig = plt.figure(figsize=(6,6))\n",
    "plt.scatter([1],[-3],c='k')\n",
    "plt.plot(x, f(x), 'b-', lw=1, c='k')\n",
    "plt.plot(x, g(x), 'b-', lw=1, c='b')\n",
    "plt.plot([x.min(), x.max()], [0, 0], lw=2, c='k')\n",
    "plt.plot([0, 0], [g(x).min(), f(x).max()], lw=2, c='k')\n",
    "plt.grid(lw=2)\n",
    "plt.tick_params(labelbottom=False, labelleft=False, labelright=False, labeltop=False)\n",
    "plt.tick_params(color='white')\n",
    "plt.show()"
   ]
  },
  {
   "cell_type": "markdown",
   "metadata": {},
   "source": [
    "## 2.4 극대와 극소"
   ]
  },
  {
   "cell_type": "markdown",
   "metadata": {},
   "source": [
    "### 그림 2-11 y=x3-3x의 그래프와 극대, 극소"
   ]
  },
  {
   "cell_type": "code",
   "execution_count": null,
   "metadata": {},
   "outputs": [],
   "source": [
    "def f1(x):\n",
    "    return(x**3 - 3*x)"
   ]
  },
  {
   "cell_type": "code",
   "execution_count": null,
   "metadata": {},
   "outputs": [],
   "source": [
    "x = np.linspace(-3, 3, 500)\n",
    "y = f1(x)\n",
    "fig = plt.figure(figsize=(6,6))\n",
    "plt.ylim(-4, 4)\n",
    "plt.xlim(-3, 3)\n",
    "plt.plot(x, y, 'b-', lw=1, c='k')\n",
    "plt.plot([0,0],[-4,4],c='k')\n",
    "plt.plot([-3,3],[0,0],c='k')\n",
    "plt.grid()\n",
    "plt.show()"
   ]
  },
  {
   "cell_type": "markdown",
   "metadata": {},
   "source": [
    "### 그림 2-12 극대도 극소도 아닌 예 (y=x3 그래프)"
   ]
  },
  {
   "cell_type": "code",
   "execution_count": null,
   "metadata": {},
   "outputs": [],
   "source": [
    "def f2(x):\n",
    "    return(x**3)"
   ]
  },
  {
   "cell_type": "code",
   "execution_count": null,
   "metadata": {},
   "outputs": [],
   "source": [
    "x = np.linspace(-3, 3, 500)\n",
    "y = f2(x)\n",
    "fig = plt.figure(figsize=(6,6))\n",
    "plt.ylim(-4, 4)\n",
    "plt.xlim(-3, 3)\n",
    "plt.plot(x, y, 'b-', lw=1, c='k')\n",
    "plt.plot([0,0],[-4,4],c='k')\n",
    "plt.plot([-3,3],[0,0],c='k')\n",
    "plt.grid()\n",
    "plt.show()"
   ]
  },
  {
   "cell_type": "markdown",
   "metadata": {},
   "source": [
    "## 2.7 합성함수와 역함수의 미분"
   ]
  },
  {
   "cell_type": "markdown",
   "metadata": {},
   "source": [
    "### 그림 2-14 역함수의 미분"
   ]
  },
  {
   "cell_type": "code",
   "execution_count": null,
   "metadata": {},
   "outputs": [],
   "source": [
    "# 역함수의 미분\n",
    "def f(x):\n",
    "    return(x**2 + 1)\n",
    "def g(x):\n",
    "    return(np.sqrt(x - 1))"
   ]
  },
  {
   "cell_type": "code",
   "execution_count": null,
   "metadata": {},
   "outputs": [],
   "source": [
    "xx1 = np.linspace(0.0, 4.0, 200)\n",
    "xx2 = np.linspace(1.0, 4.0, 200)\n",
    "yy1 = f(xx1)\n",
    "yy2 = g(xx2)"
   ]
  },
  {
   "cell_type": "code",
   "execution_count": null,
   "metadata": {},
   "outputs": [],
   "source": [
    "plt.figure(figsize=(6,6))\n",
    "plt.xlabel('$x$',fontsize=14)\n",
    "plt.ylabel('$y$',fontsize=14)\n",
    "plt.ylim(-2.0, 4.0)\n",
    "plt.xlim(-2.0, 4.0)\n",
    "plt.grid()\n",
    "plt.plot(xx1,yy1, linestyle='-', color='blue')\n",
    "plt.plot(xx2,yy2, linestyle='-', color='blue')\n",
    "plt.plot([-2,4],[-2,4], color='black')\n",
    "plt.plot([-2,4],[0,0], color='black')\n",
    "plt.plot([0,0],[-2,4],color='black')\n",
    "plt.show()"
   ]
  },
  {
   "cell_type": "markdown",
   "metadata": {},
   "source": [
    "## 2.9 적분"
   ]
  },
  {
   "cell_type": "markdown",
   "metadata": {},
   "source": [
    "### 그림 2-15 면적을 의미하는 함수 S(x)와 f(x)의 관계"
   ]
  },
  {
   "cell_type": "code",
   "execution_count": null,
   "metadata": {},
   "outputs": [],
   "source": [
    "def f(x) :\n",
    "    return x**2 + 1\n",
    "xx = np.linspace(-4.0, 4.0, 200)\n",
    "yy = f(xx)"
   ]
  },
  {
   "cell_type": "code",
   "execution_count": null,
   "metadata": {},
   "outputs": [],
   "source": [
    "plt.figure(figsize=(6,6))\n",
    "plt.xlim(-2,2)\n",
    "plt.ylim(-1,4)\n",
    "plt.plot(xx, yy)\n",
    "plt.plot([-2,2],[0,0],c='k',lw=1)\n",
    "plt.plot([0,0],[-1,4],c='k',lw=1)\n",
    "plt.plot([0,0],[0,f(0)],c='b')\n",
    "plt.plot([1,1],[0,f(1)],c='b')\n",
    "plt.plot([1.5,1.5],[0,f(1.5)],c='b')\n",
    "plt.plot([1,1.5],[f(1),f(1)],c='b')\n",
    "plt.tick_params(labelbottom=False, labelleft=False, labelright=False, labeltop=False)\n",
    "plt.tick_params(color='white')\n",
    "plt.show()"
   ]
  },
  {
   "cell_type": "markdown",
   "metadata": {},
   "source": [
    "### 그림 2-16 그래프의 면적과 정적분"
   ]
  },
  {
   "cell_type": "code",
   "execution_count": null,
   "metadata": {},
   "outputs": [],
   "source": [
    "plt.figure(figsize=(6,6))\n",
    "plt.xlim(-2,2)\n",
    "plt.ylim(-1,4)\n",
    "plt.plot(xx, yy)\n",
    "plt.plot([-2,2],[0,0],c='k',lw=1)\n",
    "plt.plot([0,0],[-1,4],c='k',lw=1)\n",
    "plt.plot([0,0],[0,f(0)],c='b')\n",
    "plt.plot([1,1],[0,f(1)],c='b')\n",
    "plt.plot([1.5,1.5],[0,f(1.5)],c='b')\n",
    "plt.tick_params(labelbottom=False, labelleft=False, labelright=False, labeltop=False)\n",
    "plt.tick_params(color='white')\n",
    "plt.show()"
   ]
  },
  {
   "cell_type": "markdown",
   "metadata": {},
   "source": [
    "### 그림 2-17 적분과 면적의 관계"
   ]
  },
  {
   "cell_type": "code",
   "execution_count": null,
   "metadata": {},
   "outputs": [],
   "source": [
    "def f(x) :\n",
    "    return x**2 + 1\n",
    "x = np.linspace(-1.0, 2.0, 200)\n",
    "y = f(x)\n",
    "N = 10\n",
    "xx = np.linspace(0.5, 1.5, N+1)\n",
    "yy = f(xx)"
   ]
  },
  {
   "cell_type": "code",
   "execution_count": null,
   "metadata": {},
   "outputs": [],
   "source": [
    "print(xx)"
   ]
  },
  {
   "cell_type": "code",
   "execution_count": null,
   "metadata": {},
   "outputs": [],
   "source": [
    "plt.figure(figsize=(6,6))\n",
    "plt.xlim(-1,2)\n",
    "plt.ylim(-1,4)\n",
    "plt.plot(x, y)\n",
    "plt.plot([-1,2],[0,0],c='k',lw=2)\n",
    "plt.plot([0,0],[-1,4],c='k',lw=2)\n",
    "plt.plot([0.5,0.5],[0,f(0.5)],c='b')\n",
    "plt.plot([1.5,1.5],[0,f(1.5)],c='b')\n",
    "plt.bar(xx[:-1], yy[:-1], align='edge', width=1/N*0.9)\n",
    "plt.tick_params(labelbottom=False, labelleft=False, labelright=False, labeltop=False)\n",
    "plt.tick_params(color='white')\n",
    "plt.grid()\n",
    "plt.show()"
   ]
  }
 ],
 "metadata": {
  "kernelspec": {
   "display_name": "Python 3",
   "language": "python",
   "name": "python3"
  },
  "language_info": {
   "codemirror_mode": {
    "name": "ipython",
    "version": 3
   },
   "file_extension": ".py",
   "mimetype": "text/x-python",
   "name": "python",
   "nbconvert_exporter": "python",
   "pygments_lexer": "ipython3",
   "version": "3.6.9"
  }
 },
 "nbformat": 4,
 "nbformat_minor": 1
}
