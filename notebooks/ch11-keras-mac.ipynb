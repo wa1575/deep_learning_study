{
 "cells": [
  {
   "cell_type": "markdown",
   "metadata": {},
   "source": [
    "# 11장 실용적인 딥러닝을 위해"
   ]
  },
  {
   "cell_type": "markdown",
   "metadata": {},
   "source": [
    "## 주의 Mac에서 발생하는 문제를 회피하기 위해 아래 셀을 반드시 실행하십시오."
   ]
  },
  {
   "cell_type": "code",
   "execution_count": 1,
   "metadata": {},
   "outputs": [],
   "source": [
    "# macOS의 문제 회피\n",
    "import os\n",
    "import platform\n",
    "if platform.system() == 'Darwin':\n",
    "    os.environ['KMP_DUPLICATE_LIB_OK']='True'"
   ]
  },
  {
   "cell_type": "code",
   "execution_count": 2,
   "metadata": {},
   "outputs": [],
   "source": [
    "# 필요 라이브러리 선언\n",
    "%matplotlib inline\n",
    "import numpy as np\n",
    "import matplotlib.pyplot as plt\n",
    "import warnings\n",
    "warnings.filterwarnings('ignore')"
   ]
  },
  {
   "cell_type": "code",
   "execution_count": 3,
   "metadata": {},
   "outputs": [],
   "source": [
    "# PDF 출력\n",
    "from IPython.display import set_matplotlib_formats\n",
    "set_matplotlib_formats('png', 'pdf')"
   ]
  },
  {
   "cell_type": "markdown",
   "metadata": {},
   "source": [
    "### 11.1 프레임워크의 활용"
   ]
  },
  {
   "cell_type": "code",
   "execution_count": 4,
   "metadata": {},
   "outputs": [
    {
     "name": "stdout",
     "output_type": "stream",
     "text": [
      "Downloading data from https://storage.googleapis.com/tensorflow/tf-keras-datasets/mnist.npz\n",
      "11493376/11490434 [==============================] - 3s 0us/step\n"
     ]
    }
   ],
   "source": [
    "# 데이터 준비\n",
    "\n",
    "# 변수 정의\n",
    "\n",
    "# D: 입력 노드 개수\n",
    "D = 784\n",
    "\n",
    "# H: 은닉층의 노드 개수\n",
    "H = 128\n",
    "\n",
    "# 분류 클래스의 개수\n",
    "num_classes = 10\n",
    "\n",
    "# Keras 함수로 데이터 읽기\n",
    "from keras.datasets import mnist\n",
    "(x_train_org, y_train), (x_test_org, y_test) \\\n",
    " = mnist.load_data()\n",
    "\n",
    "# 입력 데이터의 가공(1차원)\n",
    "x_train = x_train_org.reshape(-1, D) / 255.0\n",
    "x_test = x_test_org.reshape((-1, D)) / 255.0\n",
    "\n",
    "# 정답 데이터의 가공(원핫 인코딩)\n",
    "from keras.utils import np_utils\n",
    "y_train_ohe =\\\n",
    " np_utils.to_categorical(y_train, num_classes)\n",
    "y_test_ohe =\\\n",
    " np_utils.to_categorical(y_test, num_classes)"
   ]
  },
  {
   "cell_type": "code",
   "execution_count": 5,
   "metadata": {},
   "outputs": [],
   "source": [
    "# 모델의 정의\n",
    "\n",
    "# 필요 라이브러리 로딩\n",
    "from keras.models import Sequential\n",
    "from keras.layers import Dense\n",
    "\n",
    "# Sequential 모델의 정의\n",
    "model = Sequential()\n",
    "\n",
    "# 은닉층1의 정의\n",
    "model.add(Dense(H, activation='relu', input_shape=(D,)))\n",
    "\n",
    "# 은닉층2의 정의\n",
    "model.add(Dense(H, activation='relu'))\n",
    "\n",
    "# 출력층\n",
    "model.add(Dense(num_classes, activation='softmax'))\n",
    "\n",
    "# 모델의 컴파일\n",
    "model.compile(loss = 'categorical_crossentropy',\n",
    "              optimizer = 'sgd',\n",
    "              metrics=['accuracy'])"
   ]
  },
  {
   "cell_type": "code",
   "execution_count": 6,
   "metadata": {
    "scrolled": true
   },
   "outputs": [
    {
     "name": "stdout",
     "output_type": "stream",
     "text": [
      "Epoch 1/50\n",
      "118/118 [==============================] - 1s 11ms/step - loss: 2.0913 - accuracy: 0.3538 - val_loss: 1.8074 - val_accuracy: 0.6200\n",
      "Epoch 2/50\n",
      "118/118 [==============================] - 1s 9ms/step - loss: 1.4904 - accuracy: 0.7037 - val_loss: 1.1589 - val_accuracy: 0.7725\n",
      "Epoch 3/50\n",
      "118/118 [==============================] - 1s 9ms/step - loss: 0.9764 - accuracy: 0.7980 - val_loss: 0.7915 - val_accuracy: 0.8350\n",
      "Epoch 4/50\n",
      "118/118 [==============================] - 1s 9ms/step - loss: 0.7188 - accuracy: 0.8373 - val_loss: 0.6167 - val_accuracy: 0.8591\n",
      "Epoch 5/50\n",
      "118/118 [==============================] - 1s 9ms/step - loss: 0.5892 - accuracy: 0.8573 - val_loss: 0.5231 - val_accuracy: 0.8737\n",
      "Epoch 6/50\n",
      "118/118 [==============================] - 1s 9ms/step - loss: 0.5151 - accuracy: 0.8698 - val_loss: 0.4652 - val_accuracy: 0.8824\n",
      "Epoch 7/50\n",
      "118/118 [==============================] - 1s 9ms/step - loss: 0.4672 - accuracy: 0.8783 - val_loss: 0.4269 - val_accuracy: 0.8880\n",
      "Epoch 8/50\n",
      "118/118 [==============================] - 1s 9ms/step - loss: 0.4340 - accuracy: 0.8842 - val_loss: 0.3997 - val_accuracy: 0.8939\n",
      "Epoch 9/50\n",
      "118/118 [==============================] - 1s 9ms/step - loss: 0.4095 - accuracy: 0.8885 - val_loss: 0.3793 - val_accuracy: 0.8975\n",
      "Epoch 10/50\n",
      "118/118 [==============================] - 1s 9ms/step - loss: 0.3904 - accuracy: 0.8924 - val_loss: 0.3627 - val_accuracy: 0.9012\n",
      "Epoch 11/50\n",
      "118/118 [==============================] - 1s 8ms/step - loss: 0.3751 - accuracy: 0.8964 - val_loss: 0.3504 - val_accuracy: 0.9037\n",
      "Epoch 12/50\n",
      "118/118 [==============================] - 1s 8ms/step - loss: 0.3624 - accuracy: 0.8990 - val_loss: 0.3392 - val_accuracy: 0.9044\n",
      "Epoch 13/50\n",
      "118/118 [==============================] - 1s 9ms/step - loss: 0.3517 - accuracy: 0.9017 - val_loss: 0.3307 - val_accuracy: 0.9079\n",
      "Epoch 14/50\n",
      "118/118 [==============================] - 1s 9ms/step - loss: 0.3423 - accuracy: 0.9041 - val_loss: 0.3219 - val_accuracy: 0.9084\n",
      "Epoch 15/50\n",
      "118/118 [==============================] - 1s 9ms/step - loss: 0.3340 - accuracy: 0.9058 - val_loss: 0.3152 - val_accuracy: 0.9102\n",
      "Epoch 16/50\n",
      "118/118 [==============================] - 1s 9ms/step - loss: 0.3266 - accuracy: 0.9081 - val_loss: 0.3083 - val_accuracy: 0.9136\n",
      "Epoch 17/50\n",
      "118/118 [==============================] - 1s 9ms/step - loss: 0.3198 - accuracy: 0.9095 - val_loss: 0.3029 - val_accuracy: 0.9144\n",
      "Epoch 18/50\n",
      "118/118 [==============================] - 1s 9ms/step - loss: 0.3135 - accuracy: 0.9111 - val_loss: 0.2967 - val_accuracy: 0.9163\n",
      "Epoch 19/50\n",
      "118/118 [==============================] - 1s 9ms/step - loss: 0.3078 - accuracy: 0.9124 - val_loss: 0.2932 - val_accuracy: 0.9182\n",
      "Epoch 20/50\n",
      "118/118 [==============================] - 1s 9ms/step - loss: 0.3024 - accuracy: 0.9137 - val_loss: 0.2870 - val_accuracy: 0.9196\n",
      "Epoch 21/50\n",
      "118/118 [==============================] - 1s 9ms/step - loss: 0.2974 - accuracy: 0.9154 - val_loss: 0.2827 - val_accuracy: 0.9202\n",
      "Epoch 22/50\n",
      "118/118 [==============================] - 1s 9ms/step - loss: 0.2926 - accuracy: 0.9169 - val_loss: 0.2787 - val_accuracy: 0.9224\n",
      "Epoch 23/50\n",
      "118/118 [==============================] - 1s 9ms/step - loss: 0.2882 - accuracy: 0.9181 - val_loss: 0.2754 - val_accuracy: 0.9221\n",
      "Epoch 24/50\n",
      "118/118 [==============================] - 1s 9ms/step - loss: 0.2838 - accuracy: 0.9194 - val_loss: 0.2710 - val_accuracy: 0.9240\n",
      "Epoch 25/50\n",
      "118/118 [==============================] - 1s 9ms/step - loss: 0.2797 - accuracy: 0.9204 - val_loss: 0.2680 - val_accuracy: 0.9258\n",
      "Epoch 26/50\n",
      "118/118 [==============================] - 1s 8ms/step - loss: 0.2757 - accuracy: 0.9217 - val_loss: 0.2655 - val_accuracy: 0.9261\n",
      "Epoch 27/50\n",
      "118/118 [==============================] - 1s 8ms/step - loss: 0.2722 - accuracy: 0.9229 - val_loss: 0.2615 - val_accuracy: 0.9269\n",
      "Epoch 28/50\n",
      "118/118 [==============================] - 1s 9ms/step - loss: 0.2685 - accuracy: 0.9237 - val_loss: 0.2576 - val_accuracy: 0.9277\n",
      "Epoch 29/50\n",
      "118/118 [==============================] - 1s 9ms/step - loss: 0.2650 - accuracy: 0.9243 - val_loss: 0.2555 - val_accuracy: 0.9276\n",
      "Epoch 30/50\n",
      "118/118 [==============================] - 1s 8ms/step - loss: 0.2617 - accuracy: 0.9256 - val_loss: 0.2516 - val_accuracy: 0.9296\n",
      "Epoch 31/50\n",
      "118/118 [==============================] - 1s 9ms/step - loss: 0.2585 - accuracy: 0.9260 - val_loss: 0.2481 - val_accuracy: 0.9302\n",
      "Epoch 32/50\n",
      "118/118 [==============================] - 1s 9ms/step - loss: 0.2552 - accuracy: 0.9273 - val_loss: 0.2458 - val_accuracy: 0.9300\n",
      "Epoch 33/50\n",
      "118/118 [==============================] - 1s 9ms/step - loss: 0.2522 - accuracy: 0.9276 - val_loss: 0.2428 - val_accuracy: 0.9315\n",
      "Epoch 34/50\n",
      "118/118 [==============================] - 1s 9ms/step - loss: 0.2492 - accuracy: 0.9287 - val_loss: 0.2408 - val_accuracy: 0.9330\n",
      "Epoch 35/50\n",
      "118/118 [==============================] - 1s 9ms/step - loss: 0.2464 - accuracy: 0.9293 - val_loss: 0.2379 - val_accuracy: 0.9323\n",
      "Epoch 36/50\n",
      "118/118 [==============================] - 1s 9ms/step - loss: 0.2434 - accuracy: 0.9303 - val_loss: 0.2352 - val_accuracy: 0.9344\n",
      "Epoch 37/50\n",
      "118/118 [==============================] - 1s 9ms/step - loss: 0.2408 - accuracy: 0.9312 - val_loss: 0.2328 - val_accuracy: 0.9342\n",
      "Epoch 38/50\n",
      "118/118 [==============================] - 1s 9ms/step - loss: 0.2380 - accuracy: 0.9317 - val_loss: 0.2308 - val_accuracy: 0.9351\n",
      "Epoch 39/50\n",
      "118/118 [==============================] - 1s 10ms/step - loss: 0.2353 - accuracy: 0.9327 - val_loss: 0.2277 - val_accuracy: 0.9349\n",
      "Epoch 40/50\n",
      "118/118 [==============================] - 1s 10ms/step - loss: 0.2328 - accuracy: 0.9338 - val_loss: 0.2256 - val_accuracy: 0.9363\n",
      "Epoch 41/50\n",
      "118/118 [==============================] - 1s 8ms/step - loss: 0.2303 - accuracy: 0.9342 - val_loss: 0.2231 - val_accuracy: 0.9374\n",
      "Epoch 42/50\n",
      "118/118 [==============================] - 1s 8ms/step - loss: 0.2278 - accuracy: 0.9351 - val_loss: 0.2207 - val_accuracy: 0.9366\n",
      "Epoch 43/50\n",
      "118/118 [==============================] - 1s 9ms/step - loss: 0.2254 - accuracy: 0.9356 - val_loss: 0.2192 - val_accuracy: 0.9382\n",
      "Epoch 44/50\n",
      "118/118 [==============================] - 1s 9ms/step - loss: 0.2230 - accuracy: 0.9363 - val_loss: 0.2174 - val_accuracy: 0.9385\n",
      "Epoch 45/50\n",
      "118/118 [==============================] - 1s 8ms/step - loss: 0.2208 - accuracy: 0.9373 - val_loss: 0.2148 - val_accuracy: 0.9399\n",
      "Epoch 46/50\n",
      "118/118 [==============================] - 1s 10ms/step - loss: 0.2186 - accuracy: 0.9374 - val_loss: 0.2126 - val_accuracy: 0.9390\n",
      "Epoch 47/50\n",
      "118/118 [==============================] - 1s 10ms/step - loss: 0.2164 - accuracy: 0.9387 - val_loss: 0.2116 - val_accuracy: 0.9398\n",
      "Epoch 48/50\n",
      "118/118 [==============================] - 1s 9ms/step - loss: 0.2142 - accuracy: 0.9391 - val_loss: 0.2087 - val_accuracy: 0.9396\n",
      "Epoch 49/50\n",
      "118/118 [==============================] - 1s 9ms/step - loss: 0.2121 - accuracy: 0.9394 - val_loss: 0.2066 - val_accuracy: 0.9413\n",
      "Epoch 50/50\n",
      "118/118 [==============================] - 1s 10ms/step - loss: 0.2100 - accuracy: 0.9401 - val_loss: 0.2055 - val_accuracy: 0.9418\n"
     ]
    }
   ],
   "source": [
    "# 학습 과정\n",
    "\n",
    "# 학습의 단위\n",
    "batch_size = 512\n",
    "\n",
    "# 반복 횟수\n",
    "nb_epoch = 50\n",
    "\n",
    "# 모델의 학습\n",
    "history1 = model.fit(\n",
    "    x_train, \n",
    "    y_train_ohe,\n",
    "    batch_size = batch_size, \n",
    "    epochs = nb_epoch,\n",
    "    verbose = 1, \n",
    "    validation_data = (x_test, y_test_ohe))"
   ]
  },
  {
   "cell_type": "markdown",
   "metadata": {},
   "source": [
    "## 11.4 수치미분"
   ]
  },
  {
   "cell_type": "code",
   "execution_count": 7,
   "metadata": {},
   "outputs": [
    {
     "name": "stdout",
     "output_type": "stream",
     "text": [
      "1.0000001666666813\n"
     ]
    }
   ],
   "source": [
    "import numpy as np\n",
    "\n",
    "# 네이피어 상수를 밑으로 하는 로그함수의 정의\n",
    "def f(x):\n",
    "    return np.exp(x)\n",
    "\n",
    "# 아주 작은 수 h의 정의\n",
    "h = 0.001\n",
    "\n",
    "# f'(0)의 근사계산\n",
    "# f'(0) = f(0) = 1에 가까워짐\n",
    "diff = (f(0 + h) - f(0 - h))/(2 * h)\n",
    "\n",
    "# 결과 확인\n",
    "print(diff)"
   ]
  },
  {
   "cell_type": "markdown",
   "metadata": {},
   "source": [
    "## 11.5 고도의 학습법"
   ]
  },
  {
   "cell_type": "markdown",
   "metadata": {},
   "source": [
    "### SGD"
   ]
  },
  {
   "cell_type": "code",
   "execution_count": 8,
   "metadata": {},
   "outputs": [],
   "source": [
    "# 필요 라이브러리 로딩\n",
    "from keras.models import Sequential\n",
    "from keras.layers import Dense\n",
    "\n",
    "# 학습의 단위\n",
    "batch_size = 512\n",
    "\n",
    "# 반복 횟수\n",
    "nb_epoch = 50"
   ]
  },
  {
   "cell_type": "code",
   "execution_count": 9,
   "metadata": {},
   "outputs": [],
   "source": [
    "# Sequential 모델의 정의\n",
    "model = Sequential()\n",
    "\n",
    "# 은닉층1의 정의\n",
    "model.add(Dense(H, activation='relu', kernel_initializer='he_normal', input_shape=(D,)))\n",
    "\n",
    "# 은닉층2의 정의\n",
    "model.add(Dense(H, activation='relu', kernel_initializer='he_normal'))\n",
    "\n",
    "# 출력층\n",
    "model.add(Dense(num_classes, activation='softmax', kernel_initializer='he_normal'))"
   ]
  },
  {
   "cell_type": "code",
   "execution_count": 10,
   "metadata": {
    "scrolled": true
   },
   "outputs": [
    {
     "name": "stdout",
     "output_type": "stream",
     "text": [
      "Epoch 1/50\n",
      "118/118 [==============================] - 1s 11ms/step - loss: 1.8504 - accuracy: 0.4645 - val_loss: 1.3642 - val_accuracy: 0.7078\n",
      "Epoch 2/50\n",
      "118/118 [==============================] - 1s 9ms/step - loss: 1.0929 - accuracy: 0.7591 - val_loss: 0.8398 - val_accuracy: 0.8158\n",
      "Epoch 3/50\n",
      "118/118 [==============================] - 1s 7ms/step - loss: 0.7471 - accuracy: 0.8237 - val_loss: 0.6296 - val_accuracy: 0.8474\n",
      "Epoch 4/50\n",
      "118/118 [==============================] - 1s 6ms/step - loss: 0.5948 - accuracy: 0.8511 - val_loss: 0.5252 - val_accuracy: 0.8668\n",
      "Epoch 5/50\n",
      "118/118 [==============================] - 1s 6ms/step - loss: 0.5121 - accuracy: 0.8672 - val_loss: 0.4632 - val_accuracy: 0.8765\n",
      "Epoch 6/50\n",
      "118/118 [==============================] - 1s 5ms/step - loss: 0.4600 - accuracy: 0.8770 - val_loss: 0.4221 - val_accuracy: 0.8862\n",
      "Epoch 7/50\n",
      "118/118 [==============================] - 1s 5ms/step - loss: 0.4241 - accuracy: 0.8849 - val_loss: 0.3930 - val_accuracy: 0.8922\n",
      "Epoch 8/50\n",
      "118/118 [==============================] - 1s 6ms/step - loss: 0.3977 - accuracy: 0.8909 - val_loss: 0.3715 - val_accuracy: 0.8966\n",
      "Epoch 9/50\n",
      "118/118 [==============================] - 1s 7ms/step - loss: 0.3771 - accuracy: 0.8960 - val_loss: 0.3533 - val_accuracy: 0.9011\n",
      "Epoch 10/50\n",
      "118/118 [==============================] - 1s 6ms/step - loss: 0.3606 - accuracy: 0.8995 - val_loss: 0.3394 - val_accuracy: 0.9045\n",
      "Epoch 11/50\n",
      "118/118 [==============================] - 1s 6ms/step - loss: 0.3469 - accuracy: 0.9028 - val_loss: 0.3293 - val_accuracy: 0.9077\n",
      "Epoch 12/50\n",
      "118/118 [==============================] - 1s 6ms/step - loss: 0.3351 - accuracy: 0.9059 - val_loss: 0.3181 - val_accuracy: 0.9103\n",
      "Epoch 13/50\n",
      "118/118 [==============================] - 1s 6ms/step - loss: 0.3250 - accuracy: 0.9082 - val_loss: 0.3080 - val_accuracy: 0.9121\n",
      "Epoch 14/50\n",
      "118/118 [==============================] - 1s 6ms/step - loss: 0.3161 - accuracy: 0.9100 - val_loss: 0.3008 - val_accuracy: 0.9156\n",
      "Epoch 15/50\n",
      "118/118 [==============================] - 1s 7ms/step - loss: 0.3081 - accuracy: 0.9120 - val_loss: 0.2940 - val_accuracy: 0.9168\n",
      "Epoch 16/50\n",
      "118/118 [==============================] - 1s 6ms/step - loss: 0.3008 - accuracy: 0.9147 - val_loss: 0.2867 - val_accuracy: 0.9190\n",
      "Epoch 17/50\n",
      "118/118 [==============================] - 1s 6ms/step - loss: 0.2941 - accuracy: 0.9159 - val_loss: 0.2825 - val_accuracy: 0.9212\n",
      "Epoch 18/50\n",
      "118/118 [==============================] - 1s 6ms/step - loss: 0.2881 - accuracy: 0.9178 - val_loss: 0.2755 - val_accuracy: 0.9227\n",
      "Epoch 19/50\n",
      "118/118 [==============================] - 1s 5ms/step - loss: 0.2825 - accuracy: 0.9195 - val_loss: 0.2709 - val_accuracy: 0.9236\n",
      "Epoch 20/50\n",
      "118/118 [==============================] - 1s 5ms/step - loss: 0.2774 - accuracy: 0.9213 - val_loss: 0.2661 - val_accuracy: 0.9249\n",
      "Epoch 21/50\n",
      "118/118 [==============================] - 1s 5ms/step - loss: 0.2724 - accuracy: 0.9226 - val_loss: 0.2618 - val_accuracy: 0.9250\n",
      "Epoch 22/50\n",
      "118/118 [==============================] - 1s 6ms/step - loss: 0.2679 - accuracy: 0.9237 - val_loss: 0.2580 - val_accuracy: 0.9276\n",
      "Epoch 23/50\n",
      "118/118 [==============================] - 1s 6ms/step - loss: 0.2636 - accuracy: 0.9249 - val_loss: 0.2535 - val_accuracy: 0.9279\n",
      "Epoch 24/50\n",
      "118/118 [==============================] - 1s 5ms/step - loss: 0.2594 - accuracy: 0.9261 - val_loss: 0.2507 - val_accuracy: 0.9283\n",
      "Epoch 25/50\n",
      "118/118 [==============================] - 1s 7ms/step - loss: 0.2556 - accuracy: 0.9271 - val_loss: 0.2465 - val_accuracy: 0.9302\n",
      "Epoch 26/50\n",
      "118/118 [==============================] - 1s 6ms/step - loss: 0.2517 - accuracy: 0.9281 - val_loss: 0.2446 - val_accuracy: 0.9305\n",
      "Epoch 27/50\n",
      "118/118 [==============================] - 1s 5ms/step - loss: 0.2482 - accuracy: 0.9296 - val_loss: 0.2407 - val_accuracy: 0.9321\n",
      "Epoch 28/50\n",
      "118/118 [==============================] - 1s 5ms/step - loss: 0.2448 - accuracy: 0.9305 - val_loss: 0.2364 - val_accuracy: 0.9321\n",
      "Epoch 29/50\n",
      "118/118 [==============================] - 1s 5ms/step - loss: 0.2415 - accuracy: 0.9317 - val_loss: 0.2341 - val_accuracy: 0.9344\n",
      "Epoch 30/50\n",
      "118/118 [==============================] - 1s 5ms/step - loss: 0.2383 - accuracy: 0.9320 - val_loss: 0.2316 - val_accuracy: 0.9360\n",
      "Epoch 31/50\n",
      "118/118 [==============================] - 1s 9ms/step - loss: 0.2354 - accuracy: 0.9332 - val_loss: 0.2282 - val_accuracy: 0.9359\n",
      "Epoch 32/50\n",
      "118/118 [==============================] - 1s 9ms/step - loss: 0.2323 - accuracy: 0.9339 - val_loss: 0.2255 - val_accuracy: 0.9370\n",
      "Epoch 33/50\n",
      "118/118 [==============================] - 1s 9ms/step - loss: 0.2295 - accuracy: 0.9349 - val_loss: 0.2234 - val_accuracy: 0.9373\n",
      "Epoch 34/50\n",
      "118/118 [==============================] - 1s 9ms/step - loss: 0.2269 - accuracy: 0.9357 - val_loss: 0.2202 - val_accuracy: 0.9376\n",
      "Epoch 35/50\n",
      "118/118 [==============================] - 1s 9ms/step - loss: 0.2241 - accuracy: 0.9366 - val_loss: 0.2180 - val_accuracy: 0.9391\n",
      "Epoch 36/50\n",
      "118/118 [==============================] - 1s 9ms/step - loss: 0.2216 - accuracy: 0.9370 - val_loss: 0.2156 - val_accuracy: 0.9401\n",
      "Epoch 37/50\n",
      "118/118 [==============================] - 1s 9ms/step - loss: 0.2190 - accuracy: 0.9378 - val_loss: 0.2137 - val_accuracy: 0.9396\n",
      "Epoch 38/50\n",
      "118/118 [==============================] - 1s 9ms/step - loss: 0.2166 - accuracy: 0.9388 - val_loss: 0.2115 - val_accuracy: 0.9401\n",
      "Epoch 39/50\n",
      "118/118 [==============================] - 1s 9ms/step - loss: 0.2142 - accuracy: 0.9393 - val_loss: 0.2098 - val_accuracy: 0.9400\n",
      "Epoch 40/50\n",
      "118/118 [==============================] - 1s 9ms/step - loss: 0.2120 - accuracy: 0.9399 - val_loss: 0.2069 - val_accuracy: 0.9397\n",
      "Epoch 41/50\n",
      "118/118 [==============================] - 1s 9ms/step - loss: 0.2097 - accuracy: 0.9408 - val_loss: 0.2051 - val_accuracy: 0.9408\n",
      "Epoch 42/50\n",
      "118/118 [==============================] - 1s 9ms/step - loss: 0.2075 - accuracy: 0.9407 - val_loss: 0.2034 - val_accuracy: 0.9416\n",
      "Epoch 43/50\n",
      "118/118 [==============================] - 1s 9ms/step - loss: 0.2054 - accuracy: 0.9420 - val_loss: 0.2013 - val_accuracy: 0.9420\n",
      "Epoch 44/50\n",
      "118/118 [==============================] - 1s 9ms/step - loss: 0.2033 - accuracy: 0.9424 - val_loss: 0.1990 - val_accuracy: 0.9423\n",
      "Epoch 45/50\n",
      "118/118 [==============================] - 1s 8ms/step - loss: 0.2013 - accuracy: 0.9435 - val_loss: 0.1986 - val_accuracy: 0.9432\n",
      "Epoch 46/50\n",
      "118/118 [==============================] - 1s 8ms/step - loss: 0.1993 - accuracy: 0.9437 - val_loss: 0.1977 - val_accuracy: 0.9438\n",
      "Epoch 47/50\n",
      "118/118 [==============================] - 1s 8ms/step - loss: 0.1974 - accuracy: 0.9444 - val_loss: 0.1951 - val_accuracy: 0.9437\n",
      "Epoch 48/50\n",
      "118/118 [==============================] - 1s 9ms/step - loss: 0.1956 - accuracy: 0.9448 - val_loss: 0.1920 - val_accuracy: 0.9445\n",
      "Epoch 49/50\n",
      "118/118 [==============================] - 1s 8ms/step - loss: 0.1937 - accuracy: 0.9454 - val_loss: 0.1907 - val_accuracy: 0.9446\n",
      "Epoch 50/50\n",
      "118/118 [==============================] - 1s 9ms/step - loss: 0.1919 - accuracy: 0.9460 - val_loss: 0.1890 - val_accuracy: 0.9449\n"
     ]
    }
   ],
   "source": [
    "# 모델의 컴파일\n",
    "model.compile(loss = 'categorical_crossentropy',\n",
    "              optimizer = 'sgd',\n",
    "              metrics=['accuracy'])\n",
    "\n",
    "# 모델의 학습\n",
    "history1 = model.fit(\n",
    "    x_train, \n",
    "    y_train_ohe,\n",
    "    batch_size = batch_size, \n",
    "    epochs = nb_epoch,\n",
    "    verbose = 1, \n",
    "    validation_data = (x_test, y_test_ohe))"
   ]
  },
  {
   "cell_type": "markdown",
   "metadata": {},
   "source": [
    "### RmsProp"
   ]
  },
  {
   "cell_type": "code",
   "execution_count": 11,
   "metadata": {},
   "outputs": [],
   "source": [
    "# Sequential 모델의 정의\n",
    "model = Sequential()\n",
    "\n",
    "# 은닉층1의 정의\n",
    "model.add(Dense(H, activation='relu', kernel_initializer='he_normal', input_shape=(D,)))\n",
    "\n",
    "# 은닉층2의 정의\n",
    "model.add(Dense(H, activation='relu', kernel_initializer='he_normal'))\n",
    "\n",
    "# 출력층\n",
    "model.add(Dense(num_classes, activation='softmax', kernel_initializer='he_normal'))"
   ]
  },
  {
   "cell_type": "code",
   "execution_count": 12,
   "metadata": {
    "scrolled": true
   },
   "outputs": [
    {
     "name": "stdout",
     "output_type": "stream",
     "text": [
      "Epoch 1/50\n",
      "118/118 [==============================] - 1s 12ms/step - loss: 0.4650 - accuracy: 0.8682 - val_loss: 0.2557 - val_accuracy: 0.9185\n",
      "Epoch 2/50\n",
      "118/118 [==============================] - 1s 9ms/step - loss: 0.1980 - accuracy: 0.9423 - val_loss: 0.1776 - val_accuracy: 0.9475\n",
      "Epoch 3/50\n",
      "118/118 [==============================] - 1s 9ms/step - loss: 0.1412 - accuracy: 0.9583 - val_loss: 0.1368 - val_accuracy: 0.9585\n",
      "Epoch 4/50\n",
      "118/118 [==============================] - 1s 9ms/step - loss: 0.1104 - accuracy: 0.9681 - val_loss: 0.1244 - val_accuracy: 0.9601\n",
      "Epoch 5/50\n",
      "118/118 [==============================] - 1s 9ms/step - loss: 0.0904 - accuracy: 0.9724 - val_loss: 0.1009 - val_accuracy: 0.9693\n",
      "Epoch 6/50\n",
      "118/118 [==============================] - 1s 9ms/step - loss: 0.0746 - accuracy: 0.9776 - val_loss: 0.1039 - val_accuracy: 0.9691\n",
      "Epoch 7/50\n",
      "118/118 [==============================] - 1s 9ms/step - loss: 0.0638 - accuracy: 0.9807 - val_loss: 0.1311 - val_accuracy: 0.9595\n",
      "Epoch 8/50\n",
      "118/118 [==============================] - 1s 9ms/step - loss: 0.0529 - accuracy: 0.9839 - val_loss: 0.0832 - val_accuracy: 0.9742\n",
      "Epoch 9/50\n",
      "118/118 [==============================] - 1s 8ms/step - loss: 0.0455 - accuracy: 0.9860 - val_loss: 0.0790 - val_accuracy: 0.9757\n",
      "Epoch 10/50\n",
      "118/118 [==============================] - 1s 9ms/step - loss: 0.0397 - accuracy: 0.9881 - val_loss: 0.0951 - val_accuracy: 0.9709\n",
      "Epoch 11/50\n",
      "118/118 [==============================] - 1s 9ms/step - loss: 0.0335 - accuracy: 0.9901 - val_loss: 0.0903 - val_accuracy: 0.9709\n",
      "Epoch 12/50\n",
      "118/118 [==============================] - 1s 9ms/step - loss: 0.0284 - accuracy: 0.9919 - val_loss: 0.0878 - val_accuracy: 0.9743\n",
      "Epoch 13/50\n",
      "118/118 [==============================] - 1s 9ms/step - loss: 0.0247 - accuracy: 0.9928 - val_loss: 0.0886 - val_accuracy: 0.9736\n",
      "Epoch 14/50\n",
      "118/118 [==============================] - 1s 9ms/step - loss: 0.0221 - accuracy: 0.9939 - val_loss: 0.0802 - val_accuracy: 0.9778\n",
      "Epoch 15/50\n",
      "118/118 [==============================] - 1s 9ms/step - loss: 0.0189 - accuracy: 0.9945 - val_loss: 0.0742 - val_accuracy: 0.9784\n",
      "Epoch 16/50\n",
      "118/118 [==============================] - 1s 9ms/step - loss: 0.0161 - accuracy: 0.9956 - val_loss: 0.1419 - val_accuracy: 0.9631\n",
      "Epoch 17/50\n",
      "118/118 [==============================] - 1s 9ms/step - loss: 0.0132 - accuracy: 0.9966 - val_loss: 0.0949 - val_accuracy: 0.9733\n",
      "Epoch 18/50\n",
      "118/118 [==============================] - 1s 9ms/step - loss: 0.0120 - accuracy: 0.9968 - val_loss: 0.1178 - val_accuracy: 0.9677\n",
      "Epoch 19/50\n",
      "118/118 [==============================] - 1s 9ms/step - loss: 0.0103 - accuracy: 0.9972 - val_loss: 0.0824 - val_accuracy: 0.9795\n",
      "Epoch 20/50\n",
      "118/118 [==============================] - 1s 10ms/step - loss: 0.0091 - accuracy: 0.9976 - val_loss: 0.0921 - val_accuracy: 0.9778\n",
      "Epoch 21/50\n",
      "118/118 [==============================] - 1s 9ms/step - loss: 0.0079 - accuracy: 0.9978 - val_loss: 0.0861 - val_accuracy: 0.9777\n",
      "Epoch 22/50\n",
      "118/118 [==============================] - 1s 9ms/step - loss: 0.0065 - accuracy: 0.9983 - val_loss: 0.0905 - val_accuracy: 0.9779\n",
      "Epoch 23/50\n",
      "118/118 [==============================] - 1s 9ms/step - loss: 0.0060 - accuracy: 0.9986 - val_loss: 0.0915 - val_accuracy: 0.9782\n",
      "Epoch 24/50\n",
      "118/118 [==============================] - 1s 9ms/step - loss: 0.0053 - accuracy: 0.9987 - val_loss: 0.0856 - val_accuracy: 0.9798\n",
      "Epoch 25/50\n",
      "118/118 [==============================] - 1s 9ms/step - loss: 0.0046 - accuracy: 0.9988 - val_loss: 0.0881 - val_accuracy: 0.9791\n",
      "Epoch 26/50\n",
      "118/118 [==============================] - 1s 10ms/step - loss: 0.0038 - accuracy: 0.9991 - val_loss: 0.0945 - val_accuracy: 0.9801\n",
      "Epoch 27/50\n",
      "118/118 [==============================] - 1s 9ms/step - loss: 0.0036 - accuracy: 0.9991 - val_loss: 0.0930 - val_accuracy: 0.9797\n",
      "Epoch 28/50\n",
      "118/118 [==============================] - 1s 9ms/step - loss: 0.0032 - accuracy: 0.9992 - val_loss: 0.0985 - val_accuracy: 0.9798\n",
      "Epoch 29/50\n",
      "118/118 [==============================] - 1s 10ms/step - loss: 0.0030 - accuracy: 0.9991 - val_loss: 0.1078 - val_accuracy: 0.9781\n",
      "Epoch 30/50\n",
      "118/118 [==============================] - 1s 9ms/step - loss: 0.0029 - accuracy: 0.9992 - val_loss: 0.0980 - val_accuracy: 0.9787\n",
      "Epoch 31/50\n",
      "118/118 [==============================] - 1s 9ms/step - loss: 0.0024 - accuracy: 0.9994 - val_loss: 0.1078 - val_accuracy: 0.9787\n",
      "Epoch 32/50\n",
      "118/118 [==============================] - 1s 9ms/step - loss: 0.0023 - accuracy: 0.9995 - val_loss: 0.1082 - val_accuracy: 0.9778\n",
      "Epoch 33/50\n",
      "118/118 [==============================] - 1s 9ms/step - loss: 0.0017 - accuracy: 0.9995 - val_loss: 0.1289 - val_accuracy: 0.9757\n",
      "Epoch 34/50\n",
      "118/118 [==============================] - 1s 10ms/step - loss: 0.0022 - accuracy: 0.9995 - val_loss: 0.1283 - val_accuracy: 0.9765\n",
      "Epoch 35/50\n",
      "118/118 [==============================] - 1s 9ms/step - loss: 0.0021 - accuracy: 0.9994 - val_loss: 0.1094 - val_accuracy: 0.9786\n",
      "Epoch 36/50\n",
      "118/118 [==============================] - 1s 9ms/step - loss: 0.0023 - accuracy: 0.9993 - val_loss: 0.1360 - val_accuracy: 0.9758\n",
      "Epoch 37/50\n",
      "118/118 [==============================] - 1s 9ms/step - loss: 0.0014 - accuracy: 0.9997 - val_loss: 0.1065 - val_accuracy: 0.9805\n",
      "Epoch 38/50\n",
      "118/118 [==============================] - 1s 9ms/step - loss: 0.0019 - accuracy: 0.9995 - val_loss: 0.1174 - val_accuracy: 0.9793\n",
      "Epoch 39/50\n",
      "118/118 [==============================] - 1s 9ms/step - loss: 0.0010 - accuracy: 0.9997 - val_loss: 0.1175 - val_accuracy: 0.9791\n",
      "Epoch 40/50\n",
      "118/118 [==============================] - 1s 9ms/step - loss: 0.0015 - accuracy: 0.9996 - val_loss: 0.1190 - val_accuracy: 0.9793\n",
      "Epoch 41/50\n",
      "118/118 [==============================] - 1s 9ms/step - loss: 0.0014 - accuracy: 0.9997 - val_loss: 0.1255 - val_accuracy: 0.9793\n",
      "Epoch 42/50\n",
      "118/118 [==============================] - 1s 10ms/step - loss: 0.0015 - accuracy: 0.9995 - val_loss: 0.1238 - val_accuracy: 0.9805\n",
      "Epoch 43/50\n",
      "118/118 [==============================] - 1s 9ms/step - loss: 0.0014 - accuracy: 0.9996 - val_loss: 0.1246 - val_accuracy: 0.9802\n",
      "Epoch 44/50\n",
      "118/118 [==============================] - 1s 10ms/step - loss: 0.0012 - accuracy: 0.9997 - val_loss: 0.1200 - val_accuracy: 0.9785\n",
      "Epoch 45/50\n",
      "118/118 [==============================] - 1s 9ms/step - loss: 0.0012 - accuracy: 0.9996 - val_loss: 0.1364 - val_accuracy: 0.9776\n",
      "Epoch 46/50\n",
      "118/118 [==============================] - 1s 9ms/step - loss: 6.9593e-04 - accuracy: 0.9998 - val_loss: 0.1359 - val_accuracy: 0.9774\n",
      "Epoch 47/50\n",
      "118/118 [==============================] - 1s 9ms/step - loss: 0.0014 - accuracy: 0.9995 - val_loss: 0.1349 - val_accuracy: 0.9789\n",
      "Epoch 48/50\n",
      "118/118 [==============================] - 1s 9ms/step - loss: 6.3313e-04 - accuracy: 0.9998 - val_loss: 0.1287 - val_accuracy: 0.9799\n",
      "Epoch 49/50\n",
      "118/118 [==============================] - 1s 9ms/step - loss: 0.0011 - accuracy: 0.9997 - val_loss: 0.1439 - val_accuracy: 0.9783\n",
      "Epoch 50/50\n",
      "118/118 [==============================] - 1s 10ms/step - loss: 6.5446e-04 - accuracy: 0.9998 - val_loss: 0.1383 - val_accuracy: 0.9787\n"
     ]
    }
   ],
   "source": [
    "# 모델의 컴파일\n",
    "model.compile(loss = 'categorical_crossentropy',\n",
    "              optimizer = 'rmsprop',\n",
    "              metrics=['accuracy'])\n",
    "\n",
    "# 모델의 학습\n",
    "history2 = model.fit(\n",
    "    x_train, \n",
    "    y_train_ohe,\n",
    "    batch_size = batch_size, \n",
    "    epochs = nb_epoch,\n",
    "    verbose = 1, \n",
    "    validation_data = (x_test, y_test_ohe))"
   ]
  },
  {
   "cell_type": "markdown",
   "metadata": {},
   "source": [
    "### Momentum"
   ]
  },
  {
   "cell_type": "code",
   "execution_count": 13,
   "metadata": {},
   "outputs": [],
   "source": [
    "# Sequential 모델의 정의\n",
    "model = Sequential()\n",
    "\n",
    "# 은닉층1의 정의\n",
    "model.add(Dense(H, activation='relu', kernel_initializer='he_normal', input_shape=(D,)))\n",
    "\n",
    "# 은닉층2의 정의\n",
    "model.add(Dense(H, activation='relu', kernel_initializer='he_normal'))\n",
    "\n",
    "# 출력층\n",
    "model.add(Dense(num_classes, activation='softmax', kernel_initializer='he_normal'))"
   ]
  },
  {
   "cell_type": "code",
   "execution_count": 14,
   "metadata": {
    "scrolled": true
   },
   "outputs": [
    {
     "name": "stdout",
     "output_type": "stream",
     "text": [
      "Epoch 1/50\n",
      "118/118 [==============================] - 1s 11ms/step - loss: 0.8432 - accuracy: 0.7573 - val_loss: 0.3427 - val_accuracy: 0.9041\n",
      "Epoch 2/50\n",
      "118/118 [==============================] - 1s 8ms/step - loss: 0.3216 - accuracy: 0.9082 - val_loss: 0.2695 - val_accuracy: 0.9234\n",
      "Epoch 3/50\n",
      "118/118 [==============================] - 1s 10ms/step - loss: 0.2665 - accuracy: 0.9240 - val_loss: 0.2347 - val_accuracy: 0.9343\n",
      "Epoch 4/50\n",
      "118/118 [==============================] - 1s 9ms/step - loss: 0.2343 - accuracy: 0.9337 - val_loss: 0.2175 - val_accuracy: 0.9368\n",
      "Epoch 5/50\n",
      "118/118 [==============================] - 1s 9ms/step - loss: 0.2100 - accuracy: 0.9403 - val_loss: 0.1947 - val_accuracy: 0.9452\n",
      "Epoch 6/50\n",
      "118/118 [==============================] - 1s 9ms/step - loss: 0.1916 - accuracy: 0.9457 - val_loss: 0.1804 - val_accuracy: 0.9491\n",
      "Epoch 7/50\n",
      "118/118 [==============================] - 1s 9ms/step - loss: 0.1744 - accuracy: 0.9508 - val_loss: 0.1675 - val_accuracy: 0.9504\n",
      "Epoch 8/50\n",
      "118/118 [==============================] - 1s 9ms/step - loss: 0.1611 - accuracy: 0.9542 - val_loss: 0.1563 - val_accuracy: 0.9548\n",
      "Epoch 9/50\n",
      "118/118 [==============================] - 1s 9ms/step - loss: 0.1489 - accuracy: 0.9576 - val_loss: 0.1498 - val_accuracy: 0.9562\n",
      "Epoch 10/50\n",
      "118/118 [==============================] - 1s 9ms/step - loss: 0.1393 - accuracy: 0.9602 - val_loss: 0.1398 - val_accuracy: 0.9595\n",
      "Epoch 11/50\n",
      "118/118 [==============================] - 1s 8ms/step - loss: 0.1303 - accuracy: 0.9632 - val_loss: 0.1321 - val_accuracy: 0.9609\n",
      "Epoch 12/50\n",
      "118/118 [==============================] - 1s 8ms/step - loss: 0.1225 - accuracy: 0.9654 - val_loss: 0.1284 - val_accuracy: 0.9610\n",
      "Epoch 13/50\n",
      "118/118 [==============================] - 1s 9ms/step - loss: 0.1151 - accuracy: 0.9675 - val_loss: 0.1247 - val_accuracy: 0.9625\n",
      "Epoch 14/50\n",
      "118/118 [==============================] - 1s 9ms/step - loss: 0.1088 - accuracy: 0.9694 - val_loss: 0.1162 - val_accuracy: 0.9651\n",
      "Epoch 15/50\n",
      "118/118 [==============================] - 1s 9ms/step - loss: 0.1033 - accuracy: 0.9714 - val_loss: 0.1155 - val_accuracy: 0.9649\n",
      "Epoch 16/50\n",
      "118/118 [==============================] - 1s 9ms/step - loss: 0.0988 - accuracy: 0.9721 - val_loss: 0.1098 - val_accuracy: 0.9663\n",
      "Epoch 17/50\n",
      "118/118 [==============================] - 1s 8ms/step - loss: 0.0933 - accuracy: 0.9737 - val_loss: 0.1071 - val_accuracy: 0.9685\n",
      "Epoch 18/50\n",
      "118/118 [==============================] - 1s 8ms/step - loss: 0.0891 - accuracy: 0.9745 - val_loss: 0.1074 - val_accuracy: 0.9682\n",
      "Epoch 19/50\n",
      "118/118 [==============================] - 1s 9ms/step - loss: 0.0856 - accuracy: 0.9760 - val_loss: 0.1009 - val_accuracy: 0.9695\n",
      "Epoch 20/50\n",
      "118/118 [==============================] - 1s 9ms/step - loss: 0.0815 - accuracy: 0.9773 - val_loss: 0.0986 - val_accuracy: 0.9702\n",
      "Epoch 21/50\n",
      "118/118 [==============================] - 1s 9ms/step - loss: 0.0781 - accuracy: 0.9784 - val_loss: 0.0975 - val_accuracy: 0.9699\n",
      "Epoch 22/50\n",
      "118/118 [==============================] - 1s 8ms/step - loss: 0.0752 - accuracy: 0.9789 - val_loss: 0.0936 - val_accuracy: 0.9716\n",
      "Epoch 23/50\n",
      "118/118 [==============================] - 1s 10ms/step - loss: 0.0723 - accuracy: 0.9798 - val_loss: 0.0953 - val_accuracy: 0.9706\n",
      "Epoch 24/50\n",
      "118/118 [==============================] - 1s 9ms/step - loss: 0.0689 - accuracy: 0.9808 - val_loss: 0.0921 - val_accuracy: 0.9718\n",
      "Epoch 25/50\n",
      "118/118 [==============================] - 1s 9ms/step - loss: 0.0665 - accuracy: 0.9819 - val_loss: 0.0888 - val_accuracy: 0.9725\n",
      "Epoch 26/50\n",
      "118/118 [==============================] - 1s 9ms/step - loss: 0.0644 - accuracy: 0.9818 - val_loss: 0.0882 - val_accuracy: 0.9735\n",
      "Epoch 27/50\n",
      "118/118 [==============================] - 1s 9ms/step - loss: 0.0613 - accuracy: 0.9834 - val_loss: 0.0861 - val_accuracy: 0.9734\n",
      "Epoch 28/50\n",
      "118/118 [==============================] - 1s 9ms/step - loss: 0.0594 - accuracy: 0.9840 - val_loss: 0.0861 - val_accuracy: 0.9739\n",
      "Epoch 29/50\n",
      "118/118 [==============================] - 1s 10ms/step - loss: 0.0575 - accuracy: 0.9848 - val_loss: 0.0842 - val_accuracy: 0.9740\n",
      "Epoch 30/50\n",
      "118/118 [==============================] - 1s 9ms/step - loss: 0.0545 - accuracy: 0.9854 - val_loss: 0.0841 - val_accuracy: 0.9747\n",
      "Epoch 31/50\n",
      "118/118 [==============================] - 1s 9ms/step - loss: 0.0531 - accuracy: 0.9860 - val_loss: 0.0813 - val_accuracy: 0.9743\n",
      "Epoch 32/50\n",
      "118/118 [==============================] - 1s 8ms/step - loss: 0.0513 - accuracy: 0.9867 - val_loss: 0.0800 - val_accuracy: 0.9757\n",
      "Epoch 33/50\n",
      "118/118 [==============================] - 1s 8ms/step - loss: 0.0495 - accuracy: 0.9870 - val_loss: 0.0789 - val_accuracy: 0.9758\n",
      "Epoch 34/50\n",
      "118/118 [==============================] - 1s 9ms/step - loss: 0.0481 - accuracy: 0.9877 - val_loss: 0.0813 - val_accuracy: 0.9750\n",
      "Epoch 35/50\n",
      "118/118 [==============================] - 1s 8ms/step - loss: 0.0463 - accuracy: 0.9883 - val_loss: 0.0773 - val_accuracy: 0.9768\n",
      "Epoch 36/50\n",
      "118/118 [==============================] - 1s 9ms/step - loss: 0.0450 - accuracy: 0.9886 - val_loss: 0.0788 - val_accuracy: 0.9752\n",
      "Epoch 37/50\n",
      "118/118 [==============================] - 1s 9ms/step - loss: 0.0433 - accuracy: 0.9889 - val_loss: 0.0798 - val_accuracy: 0.9759\n",
      "Epoch 38/50\n",
      "118/118 [==============================] - 1s 9ms/step - loss: 0.0418 - accuracy: 0.9897 - val_loss: 0.0777 - val_accuracy: 0.9760\n",
      "Epoch 39/50\n",
      "118/118 [==============================] - 1s 9ms/step - loss: 0.0412 - accuracy: 0.9898 - val_loss: 0.0770 - val_accuracy: 0.9750\n",
      "Epoch 40/50\n",
      "118/118 [==============================] - 1s 9ms/step - loss: 0.0398 - accuracy: 0.9904 - val_loss: 0.0755 - val_accuracy: 0.9768\n",
      "Epoch 41/50\n",
      "118/118 [==============================] - 1s 9ms/step - loss: 0.0383 - accuracy: 0.9905 - val_loss: 0.0765 - val_accuracy: 0.9771\n",
      "Epoch 42/50\n",
      "118/118 [==============================] - 1s 9ms/step - loss: 0.0371 - accuracy: 0.9911 - val_loss: 0.0750 - val_accuracy: 0.9772\n",
      "Epoch 43/50\n",
      "118/118 [==============================] - 1s 9ms/step - loss: 0.0361 - accuracy: 0.9915 - val_loss: 0.0773 - val_accuracy: 0.9760\n",
      "Epoch 44/50\n",
      "118/118 [==============================] - 1s 9ms/step - loss: 0.0349 - accuracy: 0.9920 - val_loss: 0.0770 - val_accuracy: 0.9764\n",
      "Epoch 45/50\n",
      "118/118 [==============================] - 1s 9ms/step - loss: 0.0336 - accuracy: 0.9920 - val_loss: 0.0758 - val_accuracy: 0.9774\n",
      "Epoch 46/50\n",
      "118/118 [==============================] - 1s 9ms/step - loss: 0.0329 - accuracy: 0.9924 - val_loss: 0.0742 - val_accuracy: 0.9774\n",
      "Epoch 47/50\n",
      "118/118 [==============================] - 1s 8ms/step - loss: 0.0319 - accuracy: 0.9926 - val_loss: 0.0741 - val_accuracy: 0.9776\n",
      "Epoch 48/50\n",
      "118/118 [==============================] - 1s 8ms/step - loss: 0.0308 - accuracy: 0.9930 - val_loss: 0.0757 - val_accuracy: 0.9773\n",
      "Epoch 49/50\n",
      "118/118 [==============================] - 1s 9ms/step - loss: 0.0297 - accuracy: 0.9932 - val_loss: 0.0748 - val_accuracy: 0.9771\n",
      "Epoch 50/50\n",
      "118/118 [==============================] - 1s 9ms/step - loss: 0.0289 - accuracy: 0.9935 - val_loss: 0.0737 - val_accuracy: 0.9784\n"
     ]
    }
   ],
   "source": [
    "# 모델의 컴파일\n",
    "from keras import optimizers\n",
    "sgd = optimizers.SGD(momentum = 0.9)\n",
    "model.compile(loss = 'categorical_crossentropy',\n",
    "              optimizer = sgd,\n",
    "              metrics=['accuracy'])\n",
    "\n",
    "# 모델의 학습\n",
    "history3 = model.fit(\n",
    "    x_train, \n",
    "    y_train_ohe,\n",
    "    batch_size = batch_size, \n",
    "    epochs = nb_epoch,\n",
    "    verbose = 1, \n",
    "    validation_data = (x_test, y_test_ohe))"
   ]
  },
  {
   "cell_type": "markdown",
   "metadata": {},
   "source": [
    "### 그래프 표시 및 비교"
   ]
  },
  {
   "cell_type": "code",
   "execution_count": 15,
   "metadata": {},
   "outputs": [
    {
     "data": {
      "application/pdf": "[encoded data removed]",
      "image/png": "[encoded data removed]",
      "text/plain": [
       "<Figure size 576x432 with 1 Axes>"
      ]
     },
     "metadata": {
      "needs_background": "light"
     },
     "output_type": "display_data"
    }
   ],
   "source": [
    "#import matplotlib.pyplot as plt\n",
    "\n",
    "# 학습 곡선 표시(손실함수의 값)\n",
    "plt.figure(figsize=(8,6))\n",
    "plt.plot(history1.history['val_loss'],label='SGD', lw=3, c='k')\n",
    "plt.plot(history2.history['val_loss'],label='rmsprop', lw=3, c='b')\n",
    "plt.plot(history3.history['val_loss'],label='momentum', lw=3, c='k', linestyle='dashed')\n",
    "plt.ylim(0,2)\n",
    "plt.xticks(size=14)\n",
    "plt.yticks(size=14)\n",
    "plt.grid(lw=2)\n",
    "plt.legend(fontsize=14)\n",
    "plt.show()"
   ]
  },
  {
   "cell_type": "code",
   "execution_count": 16,
   "metadata": {},
   "outputs": [
    {
     "data": {
      "application/pdf": "[encoded data removed]",
      "image/png": "[encoded data removed]",
      "text/plain": [
       "<Figure size 576x432 with 1 Axes>"
      ]
     },
     "metadata": {
      "needs_background": "light"
     },
     "output_type": "display_data"
    }
   ],
   "source": [
    "import matplotlib.pyplot as plt\n",
    "\n",
    "# 학습 곡선 표시(정확도)\n",
    "plt.figure(figsize=(8,6))\n",
    "plt.plot(history1.history['accuracy'],label='SGD', lw=3, c='k')\n",
    "plt.plot(history2.history['accuracy'],label='rmsprop', lw=3, c='b')\n",
    "plt.plot(history3.history['accuracy'],label='momentum', lw=3, c='k', linestyle='dashed')\n",
    "plt.ylim(0.8,1)\n",
    "plt.xticks(size=14)\n",
    "plt.yticks(size=14)\n",
    "plt.grid(lw=2)\n",
    "plt.legend(fontsize=14)\n",
    "plt.show()"
   ]
  },
  {
   "cell_type": "markdown",
   "metadata": {},
   "source": [
    "## 11.6 과학습 대책"
   ]
  },
  {
   "cell_type": "code",
   "execution_count": 17,
   "metadata": {},
   "outputs": [],
   "source": [
    "# 정답 데이터의 데이터 수\n",
    "div = 8\n",
    "\n",
    "# 근사다항식의 차원\n",
    "dim = 8\n",
    "\n",
    "# y = -x*4 + x**3 -3x**2 + 8x -7\n",
    "p = [-1, 1, -3, 8, -7]\n",
    "\n",
    "# x의 정의역[-2, 1]\n",
    "xMin = -2\n",
    "xMax = 1"
   ]
  },
  {
   "cell_type": "markdown",
   "metadata": {},
   "source": [
    "$ f(x) = -x^4 + x^3 -3x^2 + 8x -7 + N(0,5) $"
   ]
  },
  {
   "cell_type": "code",
   "execution_count": 18,
   "metadata": {},
   "outputs": [],
   "source": [
    "# x: xMin과 xMan의 사이를 div개로 분할한 벡터\n",
    "x = np.linspace(xMin, xMax, num=div)\n",
    "\n",
    "# xx: x를 10배 더 세밀한 간격으로 분할한 벡터\n",
    "xx = np.linspace(xMin, xMax, num=div*10)\n",
    "\n",
    "# y, yy: x, xx 각각의 벡터에 대해 다항식의 값을 계산한 벡터\n",
    "y = np.polyval(p, x)\n",
    "yy = np.polyval(p, xx)\n",
    "\n",
    "# z: y에 정규분포의 노이즈를 추가하고 이것을 정답 데이터고 한다.\n",
    "z = y + 5 * np.random.randn(div)"
   ]
  },
  {
   "cell_type": "code",
   "execution_count": 19,
   "metadata": {},
   "outputs": [],
   "source": [
    "# 벡터 표시용 함수\n",
    "def print_fix(x):\n",
    "    [print('{:.3f}'.format(n)) for n in x]\n",
    "    \n",
    "# 모델을 인용하여 다항식의 계산을 표시하는 함수\n",
    "def print_fix_model(m):\n",
    "    w = m.coef_.tolist()\n",
    "    w[0] = m.intercept_\n",
    "    print_fix(w)    "
   ]
  },
  {
   "cell_type": "code",
   "execution_count": 20,
   "metadata": {},
   "outputs": [],
   "source": [
    "# 다항식 행렬을 만들어 모델의 입력 변수로 한다.\n",
    "\n",
    "# x**n의 벡터 계산용 함수\n",
    "def f(x) :\n",
    "    return [x**i for i in range(dim)]\n",
    "\n",
    "# x: x벡터에서 다항식 2차원 배열을 만든 것\n",
    "X = [f(x0) for x0 in x]\n",
    "\n",
    "# Xx: xx벡터에서 다항식 2차원 배열을 만든 것\n",
    "XX = [f(x0) for x0 in xx]"
   ]
  },
  {
   "cell_type": "code",
   "execution_count": 21,
   "metadata": {},
   "outputs": [],
   "source": [
    "# 선형 모델 라이브러리의 로딩\n",
    "from sklearn.linear_model import LinearRegression\n",
    "\n",
    "# 모델의 초기화 및 학습\n",
    "model = LinearRegression().fit(X, z)\n",
    "\n",
    "# 예측값의 취득\n",
    "yy_pred = model.predict(XX)"
   ]
  },
  {
   "cell_type": "code",
   "execution_count": 22,
   "metadata": {},
   "outputs": [],
   "source": [
    "# Ridge 모델 라이브러리의 로딩\n",
    "from sklearn.linear_model import Ridge\n",
    "\n",
    "# 모델의 생성 및 학습\n",
    "#model2 = Ridge(alpha=5).fit(X, z)\n",
    "model2 = Ridge(alpha=0.5).fit(X, z)"
   ]
  },
  {
   "cell_type": "code",
   "execution_count": 23,
   "metadata": {},
   "outputs": [],
   "source": [
    "# 예측값의 취득\n",
    "yy_pred2 = model2.predict(XX)"
   ]
  },
  {
   "cell_type": "code",
   "execution_count": 24,
   "metadata": {},
   "outputs": [
    {
     "data": {
      "application/pdf": "[encoded data removed]",
      "image/png": "[encoded data removed]",
      "text/plain": [
       "<Figure size 576x432 with 1 Axes>"
      ]
     },
     "metadata": {
      "needs_background": "light"
     },
     "output_type": "display_data"
    }
   ],
   "source": [
    "# 그래프 표시\n",
    "plt.figure(figsize=(8,6))\n",
    "plt.plot(xx, yy, label='polynomial', lw=1, c='k')\n",
    "plt.scatter(x, z, label='observed', s=50, c='k')\n",
    "plt.plot(xx, yy_pred, label='linear regression', lw=3, c='k')\n",
    "plt.plot(xx, yy_pred2, label='L2 regularizer', lw=3, c='b')\n",
    "plt.xlabel('X')\n",
    "plt.ylabel('Y')\n",
    "plt.xticks(size=14)\n",
    "plt.yticks(size=14)\n",
    "plt.grid(lw=2)\n",
    "plt.legend(fontsize=14)\n",
    "plt.show()"
   ]
  }
 ],
 "metadata": {
  "kernelspec": {
   "display_name": "Python 3",
   "language": "python",
   "name": "python3"
  },
  "language_info": {
   "codemirror_mode": {
    "name": "ipython",
    "version": 3
   },
   "file_extension": ".py",
   "mimetype": "text/x-python",
   "name": "python",
   "nbconvert_exporter": "python",
   "pygments_lexer": "ipython3",
   "version": "3.8.5"
  }
 },
 "nbformat": 4,
 "nbformat_minor": 2
}
