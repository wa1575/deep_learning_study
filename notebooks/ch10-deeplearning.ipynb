{
 "cells": [
  {
   "cell_type": "markdown",
   "metadata": {},
   "source": [
    "# 10장 딥러닝 모델"
   ]
  },
  {
   "cell_type": "code",
   "execution_count": null,
   "metadata": {},
   "outputs": [],
   "source": [
    "# 필요 라이브러리 선언\n",
    "%matplotlib inline\n",
    "import numpy as np\n",
    "import matplotlib.pyplot as plt\n",
    "import warnings\n",
    "warnings.filterwarnings('ignore')"
   ]
  },
  {
   "cell_type": "code",
   "execution_count": null,
   "metadata": {},
   "outputs": [],
   "source": [
    "# PDF 출력\n",
    "from IPython.display import set_matplotlib_formats\n",
    "set_matplotlib_formats('png', 'pdf')"
   ]
  },
  {
   "cell_type": "markdown",
   "metadata": {},
   "source": [
    "## 10.7 프로그램 구현(1)"
   ]
  },
  {
   "cell_type": "markdown",
   "metadata": {},
   "source": [
    "### 데이터 읽기"
   ]
  },
  {
   "cell_type": "code",
   "execution_count": null,
   "metadata": {},
   "outputs": [],
   "source": [
    "# 데이터 읽기\n",
    "import os\n",
    "import urllib.request\n",
    "\n",
    "mnist_file = 'mnist-original.mat'\n",
    "mnist_path = 'mldata'\n",
    "mnist_url = 'https://github.com/amplab/datascience-sp14/raw/master/lab7/mldata/mnist-original.mat'\n",
    "\n",
    "# 파일 존재 확인\n",
    "mnist_fullpath = os.path.join('.', mnist_path, mnist_file)\n",
    "if not os.path.isfile(mnist_fullpath):\n",
    "    # 데이터 다운로드\n",
    "    mldir = os.path.join('.', 'mldata')\n",
    "    os.makedirs(mldir, exist_ok=True)\n",
    "    print(\"donwload %s started.\" % mnist_file)\n",
    "    urllib.request.urlretrieve(mnist_url, mnist_fullpath)\n",
    "    print(\"donwload %s finished.\" % mnist_file)\n",
    "\n",
    "from sklearn.datasets import fetch_mldata\n",
    "mnist = fetch_mldata('MNIST original', data_home='.')"
   ]
  },
  {
   "cell_type": "code",
   "execution_count": null,
   "metadata": {},
   "outputs": [],
   "source": [
    "x_org, y_org = mnist.data, mnist.target\n",
    "y_org = y_org.astype(np.int) # mnist.target이 문자 배열이기 때문에 이를 정수 배열로 변환함."
   ]
  },
  {
   "cell_type": "markdown",
   "metadata": {},
   "source": [
    "### 입력 데이터의 가공"
   ]
  },
  {
   "cell_type": "code",
   "execution_count": null,
   "metadata": {},
   "outputs": [],
   "source": [
    "# 입력 데이터의 가공\n",
    "\n",
    "# step1 데이터 정규화 값의 범위를 [0, 1]로 제한\n",
    "x_norm = x_org / 255.0\n",
    "\n",
    "# 앞에 더미 데이터 변수(1)를 추가\n",
    "x_all = np.insert(x_norm, 0, 1, axis=1)\n",
    "\n",
    "print('더미 변수 추가 후', x_all.shape)"
   ]
  },
  {
   "cell_type": "code",
   "execution_count": null,
   "metadata": {},
   "outputs": [],
   "source": [
    "# step 2 y를 One-hot-Vector로\n",
    "\n",
    "from sklearn.preprocessing import OneHotEncoder\n",
    "ohe = OneHotEncoder(sparse=False)\n",
    "y_all_one = ohe.fit_transform(np.c_[y_org])\n",
    "print('원핫 인코딩', y_all_one.shape)"
   ]
  },
  {
   "cell_type": "code",
   "execution_count": null,
   "metadata": {},
   "outputs": [],
   "source": [
    "# step 3 학습 데이터와 검증 데이터로 분할\n",
    "\n",
    "from sklearn.model_selection import train_test_split\n",
    "x_train, x_test, y_train, y_test, y_train_one, y_test_one = train_test_split(\n",
    "    x_all, y_org, y_all_one, train_size=60000, test_size=10000, shuffle=False)\n",
    "print(x_train.shape, x_test.shape, y_train.shape, y_test.shape, \n",
    "    y_train_one.shape, y_test_one.shape)"
   ]
  },
  {
   "cell_type": "code",
   "execution_count": null,
   "metadata": {},
   "outputs": [],
   "source": [
    "# 데이터 내용 확인\n",
    "\n",
    "N = 20\n",
    "np.random.seed(123)\n",
    "indexes = np.random.choice(y_test.shape[0], N, replace=False)\n",
    "x_selected = x_test[indexes,1:]\n",
    "y_selected = y_test[indexes]\n",
    "plt.figure(figsize=(10, 3))\n",
    "for i in range(N):\n",
    "    ax = plt.subplot(2, N/2, i + 1)\n",
    "    plt.imshow(x_selected[i].reshape(28, 28),cmap='gray_r')\n",
    "    ax.set_title('%d' %y_selected[i], fontsize=16)\n",
    "    ax.get_xaxis().set_visible(False)\n",
    "    ax.get_yaxis().set_visible(False)\n",
    "plt.show()"
   ]
  },
  {
   "cell_type": "markdown",
   "metadata": {},
   "source": [
    "### 예측함수"
   ]
  },
  {
   "cell_type": "code",
   "execution_count": null,
   "metadata": {},
   "outputs": [],
   "source": [
    "# 시그모이드 함수\n",
    "def sigmoid(x):\n",
    "    return 1/(1+ np.exp(-x))"
   ]
  },
  {
   "cell_type": "code",
   "execution_count": null,
   "metadata": {},
   "outputs": [],
   "source": [
    "# 소프트맥스 함수\n",
    "def softmax(x):\n",
    "    x = x.T\n",
    "    x_max = x.max(axis=0)\n",
    "    x = x - x_max\n",
    "    w = np.exp(x)\n",
    "    return (w / w.sum(axis=0)).T"
   ]
  },
  {
   "cell_type": "markdown",
   "metadata": {},
   "source": [
    "### 검증함수"
   ]
  },
  {
   "cell_type": "code",
   "execution_count": null,
   "metadata": {},
   "outputs": [],
   "source": [
    "# 교차 엔트로피 함수\n",
    "def cross_entropy(yt, yp):\n",
    "    return -np.mean(np.sum(yt * np.log(yp), axis=1))"
   ]
  },
  {
   "cell_type": "code",
   "execution_count": null,
   "metadata": {},
   "outputs": [],
   "source": [
    "# 검증 처리(리턴 값은 정확도와 손실함수)\n",
    "from sklearn.metrics import accuracy_score\n",
    "\n",
    "def evaluate(x_test, y_test, y_test_one, V, W):\n",
    "    b1_test = np.insert(sigmoid(x_test @ V), 0, 1, axis=1)\n",
    "    yp_test_one = softmax(b1_test @ W)\n",
    "    yp_test = np.argmax(yp_test_one, axis=1)\n",
    "    loss = cross_entropy(y_test_one, yp_test_one)\n",
    "    score = accuracy_score(y_test, yp_test)\n",
    "    return score, loss   "
   ]
  },
  {
   "cell_type": "markdown",
   "metadata": {},
   "source": [
    "### 미니 배치 처리"
   ]
  },
  {
   "cell_type": "code",
   "execution_count": null,
   "metadata": {},
   "outputs": [],
   "source": [
    "# 미니 배치용 인덱스 취득 함수\n",
    "import numpy as np\n",
    "\n",
    "class Indexes():\n",
    "    \n",
    "    # 생성자\n",
    "    def __init__(self, total, size):\n",
    "        # 배열 전체의 크기\n",
    "        self.total   = total\n",
    "        # 배치 크기\n",
    "        self.size    = size\n",
    "        # 작업용 인덱스 초기값은 NULL로 한다.\n",
    "        self.indexes = np.zeros(0) \n",
    "\n",
    "    # 인덱스 취득 함수   \n",
    "    def next_index(self):\n",
    "        next_flag = False\n",
    "        \n",
    "    # 배치 크기보다 작업용 인덱스가 작은 경우 인덱스를 재생성\n",
    "        if len(self.indexes) < self.size: \n",
    "            self.indexes = np.random.choice(self.total, \n",
    "                self.total, replace=False)\n",
    "            next_flag = True\n",
    "            \n",
    "        # 복귀용 인덱스 취득과 작업용 인덱스 갱신\n",
    "        index = self.indexes[:self.size]\n",
    "        self.indexes = self.indexes[self.size:]\n",
    "        return index, next_flag"
   ]
  },
  {
   "cell_type": "code",
   "execution_count": null,
   "metadata": {},
   "outputs": [],
   "source": [
    "# 인덱스 클래스의 테스트\n",
    "\n",
    "# 클래스 초기화\n",
    "# 20: 전체 배열의 크기\n",
    "# 5: 한번에 가져오는 인덱스 수\n",
    "indexes = Indexes(20, 5)\n",
    "\n",
    "for i in range(6):\n",
    "    # next_index 함수 호출\n",
    "    # 리턴 값1: 인덱스의 numpy 배열\n",
    "    # 리턴 값2: 작업용 인덱스가 갱신되었는지의 여부\n",
    "    arr, flag = indexes.next_index()\n",
    "    print(arr, flag)"
   ]
  },
  {
   "cell_type": "markdown",
   "metadata": {},
   "source": [
    "### 초기화 처리 1"
   ]
  },
  {
   "cell_type": "code",
   "execution_count": null,
   "metadata": {},
   "outputs": [],
   "source": [
    "# 변수 초기 선언 \n",
    "\n",
    "# 은닉층의 노드 개수\n",
    "H = 128\n",
    "H1 = H + 1\n",
    "# M: 학습용 데이터 계열의 전체 개수\n",
    "M  = x_train.shape[0]\n",
    "# D: 입력 데이터의 차원 수\n",
    "D = x_train.shape[1]\n",
    "# N: 분류 클래스의 개수\n",
    "N = y_train_one.shape[1]\n",
    "\n",
    "# 반복 횟수\n",
    "nb_epoch = 100\n",
    "# 미니 배치 크기\n",
    "batch_size = 512\n",
    "B = batch_size\n",
    "# 학습률\n",
    "alpha = 0.01\n",
    "\n",
    "# 가중치 행렬의 초기 설정(모든 값이 1)\n",
    "V = np.ones((D, H))\n",
    "W = np.ones((H1, N))\n",
    "\n",
    "# 검증 결과 기록(손실함수와 정확도)\n",
    "history1 = np.zeros((0, 3))\n",
    "\n",
    "# 미니 배치를 위한 초기화\n",
    "indexes = Indexes(M, batch_size)\n",
    "\n",
    "# 반복 횟수 카운터 초기화\n",
    "epoch = 0"
   ]
  },
  {
   "cell_type": "markdown",
   "metadata": {},
   "source": [
    "### 주요 처리 1"
   ]
  },
  {
   "cell_type": "code",
   "execution_count": null,
   "metadata": {},
   "outputs": [],
   "source": [
    "# 주요 처리\n",
    "while epoch < nb_epoch:\n",
    "\n",
    "    # 학습대상 선택(미니 배치 학습법)\n",
    "    index, next_flag = indexes.next_index()\n",
    "    x, yt = x_train[index], y_train_one[index]\n",
    "    \n",
    "    # 예측값 계산(순전파)\n",
    "    a = x @ V                         # (10.6.3)\n",
    "    b = sigmoid(a)                    # (10.6.4)\n",
    "    b1 = np.insert(b, 0, 1, axis=1)   # 더미 변수의 추가 \n",
    "    u = b1 @ W                        # (10.6.5)   \n",
    "    yp = softmax(u)                   # (10.6.6)\n",
    "    \n",
    "    # 오차 계산\n",
    "    yd = yp - yt                      # (10.6.7)\n",
    "    bd = b * (1-b) * (yd @ W[1:].T)   # (10.6.8)\n",
    "\n",
    "    # 기울기 계산\n",
    "    W = W - alpha * (b1.T @ yd) / B   # (10.6.9)\n",
    "    V = V - alpha * (x.T @ bd) / B    # (10.6.10)\n",
    "    \n",
    "    # 로그 기록\n",
    "    if next_flag: # 1 epoch 종료 후의 처리\n",
    "        score, loss = evaluate(\n",
    "            x_test, y_test, y_test_one, V, W)\n",
    "        history1 = np.vstack((history1, \n",
    "            np.array([epoch, loss, score])))\n",
    "        print(\"epoch = %d loss = %f score = %f\" \n",
    "            % (epoch, loss, score))\n",
    "        epoch = epoch + 1"
   ]
  },
  {
   "cell_type": "markdown",
   "metadata": {},
   "source": [
    "### 결과 확인 1"
   ]
  },
  {
   "cell_type": "code",
   "execution_count": null,
   "metadata": {},
   "outputs": [],
   "source": [
    "#손실함수와 정확도의 확인\n",
    "print('[초기 상태] 손실함수: %f, 정확도: %f'\n",
    "        % (history1[0,1], history1[0,2]))\n",
    "print('[최종 상태] 손실함수: %f, 정확도: %f'\n",
    "        % (history1[-1,1], history1[-1,2]))"
   ]
  },
  {
   "cell_type": "code",
   "execution_count": null,
   "metadata": {},
   "outputs": [],
   "source": [
    "# 학습 곡선 표시(손실함수의 값)\n",
    "plt.plot(history1[:,0], history1[:,1])\n",
    "plt.ylim(0,2.5)\n",
    "plt.xticks(size=14)\n",
    "plt.yticks(size=14)\n",
    "plt.grid(lw=2)\n",
    "plt.show()"
   ]
  },
  {
   "cell_type": "code",
   "execution_count": null,
   "metadata": {},
   "outputs": [],
   "source": [
    "# 학습 곡선 표시(정확도)\n",
    "plt.plot(history1[:,0], history1[:,2])\n",
    "plt.ylim(0,1)\n",
    "plt.xticks(size=14)\n",
    "plt.yticks(size=14)\n",
    "plt.grid(lw=2)\n",
    "plt.show()"
   ]
  },
  {
   "cell_type": "markdown",
   "metadata": {},
   "source": [
    "## 10.8 프로그램 구현(2) 매개변수 초기값의 설정 변경"
   ]
  },
  {
   "cell_type": "markdown",
   "metadata": {},
   "source": [
    "### 초기화 처리  2"
   ]
  },
  {
   "cell_type": "code",
   "execution_count": null,
   "metadata": {
    "scrolled": false
   },
   "outputs": [],
   "source": [
    "# 변수 초기 선언 가중치 행렬의 초기화 방식 변경\n",
    "\n",
    "# 은닉층의 노드 개수\n",
    "H = 128\n",
    "H1 = H + 1\n",
    "\n",
    "# M: 학습용 데이터 계열의 전체 개수\n",
    "M  = x_train.shape[0]\n",
    "\n",
    "# D: 입력 데이터의 차원 수\n",
    "D = x_train.shape[1]\n",
    "\n",
    "# N: 분류 클래스의 개수\n",
    "N = y_train_one.shape[1]\n",
    "\n",
    "# 기계 학습 매개변수\n",
    "alpha = 0.01\n",
    "nb_epoch = 100\n",
    "batch_size = 512\n",
    "B = batch_size\n",
    "\n",
    "# 가중치 행렬의 초기 설정(모든 값이 1)\n",
    "V = np.ones((D, H))\n",
    "W = np.ones((H1, N))\n",
    "\n",
    "# 검증 결과 기록(손실함수와 정확도)\n",
    "history2 = np.zeros((0, 3))\n",
    "\n",
    "# 미니 배치를 위한 초기화\n",
    "indexes = Indexes(M, batch_size)\n",
    "\n",
    "# 반복 횟수 카운터 초기화\n",
    "epoch = 0"
   ]
  },
  {
   "cell_type": "code",
   "execution_count": null,
   "metadata": {},
   "outputs": [],
   "source": [
    "# 개선된 가중치 행렬의 초기화\n",
    "V = np.random.randn(D, H) / np.sqrt(D / 2)\n",
    "W = np.random.randn(H1, N) / np.sqrt(H1 / 2)\n",
    "print(V[:2,:5])\n",
    "print(W[:2,:5])"
   ]
  },
  {
   "cell_type": "markdown",
   "metadata": {},
   "source": [
    "### 주요 처리 2"
   ]
  },
  {
   "cell_type": "code",
   "execution_count": null,
   "metadata": {
    "scrolled": false
   },
   "outputs": [],
   "source": [
    "# 주요 처리\n",
    "while epoch < nb_epoch:\n",
    "    \n",
    "    # 학습대상 선택(미니 배치 학습법)\n",
    "    index, next_flag = indexes.next_index()\n",
    "    x, yt = x_train[index], y_train_one[index]\n",
    "\n",
    "    # 예측값 계산(순전파)\n",
    "    a = x @ V                         # (10.6.3)\n",
    "    b = sigmoid(a)                    # (10.6.4)\n",
    "    b1 = np.insert(b, 0, 1, axis=1)   # 더미 변수의 추가\n",
    "    u = b1 @ W                        # (10.6.5)\n",
    "    yp = softmax(u)                   # (10.6.6)\n",
    "    \n",
    "    # 오차 계산\n",
    "    yd = yp - yt                      # (10.6.7)\n",
    "    bd = b * (1-b) * (yd @ W[1:].T)   # (10.6.8)\n",
    "\n",
    "    # 기울기 계산\n",
    "    W = W - alpha * (b1.T @ yd) / B   # (10.6.9)\n",
    "    V = V - alpha * (x.T @ bd) / B    # (10.6.10)\n",
    "\n",
    "    if next_flag: # 1epoch 종료 후의 처리\n",
    "        score, loss = evaluate(\n",
    "            x_test, y_test, y_test_one, V, W)\n",
    "        history2 = np.vstack((history2, \n",
    "            np.array([epoch, loss, score])))\n",
    "        print(\"epoch = %d loss = %f score = %f\" \n",
    "            % (epoch, loss, score))\n",
    "        epoch = epoch + 1"
   ]
  },
  {
   "cell_type": "markdown",
   "metadata": {},
   "source": [
    "### 결과 확인 2"
   ]
  },
  {
   "cell_type": "code",
   "execution_count": null,
   "metadata": {},
   "outputs": [],
   "source": [
    "# 손실함수와 정확도의 확인\n",
    "print('[초기 상태] 손실함수: %f, 정확도: %f'\n",
    "        % (history2[0,1], history2[0,2]))\n",
    "print('[최종 상태] 손실함수: %f, 정확도: %f'\n",
    "        % (history2[-1,1], history2[-1,2]))"
   ]
  },
  {
   "cell_type": "code",
   "execution_count": null,
   "metadata": {},
   "outputs": [],
   "source": [
    "# 학습 곡선 표시(손실함수의 값)\n",
    "plt.plot(history2[:,0], history2[:,1])\n",
    "plt.ylim(0,2.5)\n",
    "plt.xticks(size=14)\n",
    "plt.yticks(size=14)\n",
    "plt.grid(lw=2)\n",
    "plt.show()"
   ]
  },
  {
   "cell_type": "code",
   "execution_count": null,
   "metadata": {},
   "outputs": [],
   "source": [
    "# 학습 곡선 표시(정확도)\n",
    "plt.plot(history2[:,0], history2[:,2])\n",
    "plt.ylim(0,1)\n",
    "plt.xticks(size=14)\n",
    "plt.yticks(size=14)\n",
    "plt.grid(lw=2)\n",
    "plt.show()"
   ]
  },
  {
   "cell_type": "markdown",
   "metadata": {},
   "source": [
    "## 10.9 프로그램 구현(3) ReLU 함수의 도입"
   ]
  },
  {
   "cell_type": "code",
   "execution_count": null,
   "metadata": {},
   "outputs": [],
   "source": [
    "# ReLU 함수\n",
    "def ReLU(x):\n",
    "    return np.maximum(0, x)"
   ]
  },
  {
   "cell_type": "code",
   "execution_count": null,
   "metadata": {},
   "outputs": [],
   "source": [
    "# 계단함수\n",
    "def step(x):\n",
    "    return 1.0 * ( x > 0)"
   ]
  },
  {
   "cell_type": "code",
   "execution_count": null,
   "metadata": {},
   "outputs": [],
   "source": [
    "# ReLU 함수와 계단함수의 그래프 표시\n",
    "\n",
    "xx =  np.linspace(-4, 4, 501)\n",
    "yy = ReLU(xx)\n",
    "plt.figure(figsize=(6,6))\n",
    "#plt.ylim(0.0, 1.0)\n",
    "plt.xlim(-4, 4)\n",
    "plt.ylim(-4, 4)\n",
    "plt.xlabel(r'$x$', fontsize=14)\n",
    "plt.ylabel(r'$y$', fontsize=14)\n",
    "plt.grid(lw=2)\n",
    "plt.plot(xx, ReLU(xx), c='b', label='ReLU', linestyle='-', lw=3)\n",
    "plt.plot(xx, step(xx), c='k', label='step', linestyle='-.', lw=3)\n",
    "plt.xticks(size=14)\n",
    "plt.yticks(size=14)\n",
    "plt.legend(fontsize=14)\n",
    "plt.show()"
   ]
  },
  {
   "cell_type": "markdown",
   "metadata": {},
   "source": [
    "### 검증 처리 3"
   ]
  },
  {
   "cell_type": "code",
   "execution_count": null,
   "metadata": {},
   "outputs": [],
   "source": [
    "# 검증 처리 (ReLU 함수 지원)\n",
    "from sklearn.metrics import accuracy_score\n",
    "\n",
    "def evaluate2(x_test, y_test, y_test_one, V, W):\n",
    "    b1_test = np.insert(ReLU(x_test @ V), 0, 1, axis=1)\n",
    "    yp_test_one = softmax(b1_test @ W)\n",
    "    yp_test = np.argmax(yp_test_one, axis=1)\n",
    "    loss = cross_entropy(y_test_one, yp_test_one)\n",
    "    score = accuracy_score(y_test, yp_test)\n",
    "    return score, loss   "
   ]
  },
  {
   "cell_type": "markdown",
   "metadata": {},
   "source": [
    "### 초기화 처리 3"
   ]
  },
  {
   "cell_type": "code",
   "execution_count": null,
   "metadata": {
    "scrolled": false
   },
   "outputs": [],
   "source": [
    "# 변수 초기 선언 가중치 행렬의 초기화 방식 변경\n",
    "# 은닉층의 노드 개수\n",
    "H = 128\n",
    "H1 = H + 1\n",
    "# M: 학습용 데이터 계열의 전체 개수\n",
    "M  = x_train.shape[0]\n",
    "\n",
    "# D: 입력 데이터의 차원 수\n",
    "D = x_train.shape[1]\n",
    "\n",
    "# N: 분류 클래스의 개수\n",
    "N = y_train_one.shape[1]\n",
    "\n",
    "# 기계 학습 매개변수\n",
    "alpha = 0.01\n",
    "nb_epoch = 100\n",
    "batch_size = 512\n",
    "B = batch_size\n",
    "\n",
    "# 가중치 행렬의 초기 설정\n",
    "V = np.random.randn(D, H) / np.sqrt(D / 2)\n",
    "W = np.random.randn(H1, N) / np.sqrt(H1 / 2)\n",
    "\n",
    "# 검증 결과 기록(손실함수와 정확도)\n",
    "history3 = np.zeros((0, 3))\n",
    "\n",
    "# 미니 배치를 위한 초기화\n",
    "indexes = Indexes(M, batch_size)\n",
    "\n",
    "# 반복 횟수 카운터 초기화\n",
    "epoch = 0"
   ]
  },
  {
   "cell_type": "markdown",
   "metadata": {},
   "source": [
    "### 주요 처리 3"
   ]
  },
  {
   "cell_type": "code",
   "execution_count": null,
   "metadata": {
    "scrolled": false
   },
   "outputs": [],
   "source": [
    "# 주요 처리 (시그모이드 함수를 ReLU 함수로 변경)\n",
    "while epoch < nb_epoch:\n",
    "    \n",
    "    # 학습대상 선택(미니 배치 학습법)\n",
    "    index, next_flag = indexes.next_index()\n",
    "    x, yt = x_train[index], y_train_one[index]\n",
    "\n",
    "    # 예측값 계산(순전파)\n",
    "    a = x @ V                         # (10.6.3)\n",
    "    b = ReLU(a)                       # (10.6.4) ReLU 함수로 교체\n",
    "    b1 = np.insert(b, 0, 1, axis=1)   # 더미 변수의 추가 \n",
    "    u = b1 @ W                        # (10.6.5)   \n",
    "    yp = softmax(u)                   # (10.6.6)\n",
    "    \n",
    "    # 오차 계산\n",
    "    yd = yp - yt                      # (10.6.7)\n",
    "    bd = step(a) * (yd @ W[1:].T)     #(10.6.8) 계단함수로 교체\n",
    "\n",
    "    # 기울기 계산\n",
    "    W = W - alpha * (b1.T @ yd) / B   # (10.6.9)\n",
    "    V = V - alpha * (x.T @ bd) / B    # (10.6.10)\n",
    "\n",
    "    if next_flag: # 1epoch 종료 후의 처리\n",
    "        score, loss = evaluate2(\n",
    "            x_test, y_test, y_test_one, V, W)\n",
    "        history3 = np.vstack((history3, \n",
    "            np.array([epoch, loss, score])))\n",
    "        print(\"epoch = %d loss = %f score = %f\" \n",
    "            % (epoch, loss, score))\n",
    "        epoch = epoch + 1"
   ]
  },
  {
   "cell_type": "markdown",
   "metadata": {},
   "source": [
    "### 결과 확인 3"
   ]
  },
  {
   "cell_type": "code",
   "execution_count": null,
   "metadata": {},
   "outputs": [],
   "source": [
    "# 손실함수와 정확도의 확인\n",
    "print('[초기 상태] 손실함수: %f, 정확도: %f'\n",
    "        % (history3[0,1], history3[0,2]))\n",
    "print('[최종 상태] 손실함수: %f, 정확도: %f'\n",
    "        % (history3[-1,1], history3[-1,2]))"
   ]
  },
  {
   "cell_type": "code",
   "execution_count": null,
   "metadata": {},
   "outputs": [],
   "source": [
    "# 학습 곡선 표시(손실함수의 값)\n",
    "plt.plot(history3[:,0], history3[:,1])\n",
    "plt.ylim(0,2.5)\n",
    "plt.xticks(size=14)\n",
    "plt.yticks(size=14)\n",
    "plt.grid(lw=2)\n",
    "plt.show()"
   ]
  },
  {
   "cell_type": "code",
   "execution_count": null,
   "metadata": {},
   "outputs": [],
   "source": [
    "# 학습 곡선 표시(정확도)\n",
    "plt.plot(history3[:,0], history3[:,2])\n",
    "plt.ylim(0,1)\n",
    "plt.xticks(size=14)\n",
    "plt.yticks(size=14)\n",
    "plt.grid(lw=2)\n",
    "plt.show()"
   ]
  },
  {
   "cell_type": "code",
   "execution_count": null,
   "metadata": {},
   "outputs": [],
   "source": [
    "# 데이터 내용 확인\n",
    "import matplotlib.pyplot as plt\n",
    "N = 20\n",
    "np.random.seed(123)\n",
    "indexes = np.random.choice(y_test.shape[0], N, replace=False)\n",
    "\n",
    "# x_org의 선택 결과 표시(흑백 반전)\n",
    "x_selected = x_test[indexes]\n",
    "y_selected = y_test[indexes]\n",
    "\n",
    "# 예측값 계산\n",
    "b1_test = np.insert(ReLU(x_selected @ V), 0, 1, axis=1)\n",
    "yp_test_one = softmax(b1_test @ W)\n",
    "yp_test = np.argmax(yp_test_one, axis=1)\n",
    "\n",
    "# 그래프 표시\n",
    "plt.figure(figsize=(10, 3))\n",
    "for i in range(N):\n",
    "    ax = plt.subplot(2, N/2, i + 1)\n",
    "    plt.imshow(x_selected[i,1:].reshape(28, 28),cmap='gray_r')\n",
    "    ax.set_title('%d:%d' % (y_selected[i], yp_test[i]),fontsize=14 )\n",
    "    ax.get_xaxis().set_visible(False)\n",
    "    ax.get_yaxis().set_visible(False)\n",
    "plt.show()"
   ]
  },
  {
   "cell_type": "markdown",
   "metadata": {},
   "source": [
    "## 10.10 프로그램 구현(4) 은닉층의 2계층화"
   ]
  },
  {
   "cell_type": "markdown",
   "metadata": {},
   "source": [
    "### 검증 처리 4"
   ]
  },
  {
   "cell_type": "code",
   "execution_count": null,
   "metadata": {},
   "outputs": [],
   "source": [
    "# 검증 처리 (은닉층에 2계층 지원)\n",
    "from sklearn.metrics import accuracy_score\n",
    "\n",
    "def evaluate3(x_test, y_test, y_test_one, U, V, W):\n",
    "    b1_test = np.insert(ReLU(x_test @ U), 0, 1, axis=1)\n",
    "    d1_test = np.insert(ReLU(b1_test @ V), 0, 1, axis=1)\n",
    "    yp_test_one = softmax(d1_test @ W)\n",
    "    yp_test = np.argmax(yp_test_one, axis=1)\n",
    "    loss = cross_entropy(y_test_one, yp_test_one)\n",
    "    score = accuracy_score(y_test, yp_test)\n",
    "    return score, loss   "
   ]
  },
  {
   "cell_type": "markdown",
   "metadata": {},
   "source": [
    "### 초기화 처리 4"
   ]
  },
  {
   "cell_type": "code",
   "execution_count": null,
   "metadata": {
    "scrolled": false
   },
   "outputs": [],
   "source": [
    "# 변수 초기 선언 가중치 행렬의 초기화 방식 변경\n",
    "# 은닉층의 노드 개수\n",
    "H = 128\n",
    "H1 = H + 1\n",
    "# M: 학습용 데이터 계열의 전체 개수\n",
    "M  = x_train.shape[0]\n",
    "\n",
    "# D: 입력 데이터의 차원 수\n",
    "D = x_train.shape[1]\n",
    "\n",
    "# N: 분류 클래스의 개수\n",
    "N = y_train_one.shape[1]\n",
    "\n",
    "# 기계 학습 매개변수\n",
    "alpha = 0.01\n",
    "nb_epoch = 200\n",
    "batch_size = 512\n",
    "B = batch_size\n",
    "\n",
    "# 가중치 행렬의 초기 설정\n",
    "U = np.random.randn(D, H) / np.sqrt(D / 2)\n",
    "V = np.random.randn(H1, H) / np.sqrt(H1 / 2)\n",
    "W = np.random.randn(H1, N) / np.sqrt(H1 / 2)\n",
    "\n",
    "# 검증 결과 기록(손실함수와 정확도)\n",
    "history4 = np.zeros((0, 3))\n",
    "\n",
    "# 미니 배치를 위한 초기화\n",
    "indexes = Indexes(M, batch_size)\n",
    "\n",
    "# 반복 횟수 카운터 초기화\n",
    "epoch = 0"
   ]
  },
  {
   "cell_type": "markdown",
   "metadata": {},
   "source": [
    "### 주요 처리 4"
   ]
  },
  {
   "cell_type": "code",
   "execution_count": null,
   "metadata": {
    "scrolled": false
   },
   "outputs": [],
   "source": [
    "# 주요 처리 (은닉층 2계층화)\n",
    "\n",
    "while epoch < nb_epoch:\n",
    "    # 학습대상 선택(미니 배치 학습법)\n",
    "    index, next_flag = indexes.next_index()\n",
    "    x, yt = x_train[index], y_train_one[index]\n",
    "    \n",
    "    # 예측값 계산(순전파)\n",
    "    a = x @ U                        # (10.6.11)\n",
    "    b = ReLU(a)                      # (10.6.12)\n",
    "    b1 = np.insert(b, 0, 1, axis=1)  # 더미 변수의 추가\n",
    "    c = b1 @ V                       # (10.6.13)\n",
    "    d = ReLU(c)                      # (10.6.14)\n",
    "    d1 = np.insert(d, 0, 1, axis=1)  # 더미 변수의 추가\n",
    "    u = d1 @ W                       # (10.6.15)\n",
    "    yp = softmax(u)                  # (10.6.16)\n",
    "    \n",
    "    # 오차 계산\n",
    "    yd = yp - yt                     # (10.6.17)\n",
    "    dd = step(c) * (yd @ W[1:].T)    # (10.6.18)\n",
    "    bd = step(a) * (dd @ V[1:].T)    # (10.6.19)\n",
    "\n",
    "    # 기울기 계산\n",
    "    W = W - alpha * (d1.T @ yd) / B  # (10.6.20)\n",
    "    V = V - alpha * (b1.T @ dd) / B  # (10.6.21)\n",
    "    U = U - alpha * (x.T @ bd) / B   # (10.6.22)\n",
    "\n",
    "    if next_flag: # 1epoch 종료 후의 처리\n",
    "        score, loss = evaluate3(\n",
    "            x_test, y_test, y_test_one, U, V, W)\n",
    "        history4 = np.vstack((history4, \n",
    "            np.array([epoch, loss, score])))\n",
    "        print(\"epoch = %d loss = %f score = %f\" \n",
    "            % (epoch, loss, score))\n",
    "        epoch = epoch + 1"
   ]
  },
  {
   "cell_type": "markdown",
   "metadata": {},
   "source": [
    "### 결과 확인 4"
   ]
  },
  {
   "cell_type": "code",
   "execution_count": null,
   "metadata": {},
   "outputs": [],
   "source": [
    "# 손실함수와 정확도의 확인\n",
    "print('[초기 상태] 손실함수: %f, 정확도: %f'\n",
    "    % (history4[1,1], history4[1,2]))\n",
    "print('[최종 상태] 손실함수: %f, 정확도: %f'\n",
    "    % (history4[-1,1], history4[-1,2]))"
   ]
  },
  {
   "cell_type": "code",
   "execution_count": null,
   "metadata": {},
   "outputs": [],
   "source": [
    "# 학습 곡선 표시(손실함수의 값)\n",
    "plt.plot(history4[:,0], history4[:,1])\n",
    "plt.ylim(0,2.5)\n",
    "plt.xticks(size=14)\n",
    "plt.yticks(size=14)\n",
    "plt.grid(lw=2)\n",
    "plt.show()"
   ]
  },
  {
   "cell_type": "code",
   "execution_count": null,
   "metadata": {},
   "outputs": [],
   "source": [
    "# 학습 곡선 표시(정확도)\n",
    "plt.plot(history4[:,0], history4[:,2])\n",
    "plt.ylim(0,1)\n",
    "plt.xticks(size=14)\n",
    "plt.yticks(size=14)\n",
    "plt.grid(lw=2)\n",
    "plt.show()"
   ]
  },
  {
   "cell_type": "code",
   "execution_count": null,
   "metadata": {},
   "outputs": [],
   "source": [
    "# 데이터 내용 확인\n",
    "import matplotlib.pyplot as plt\n",
    "N = 20\n",
    "np.random.seed(123)\n",
    "indexes = np.random.choice(y_test.shape[0], N, replace=False)\n",
    "\n",
    "# x_org의 선택 결과 표시(흑백 반전)\n",
    "x_selected = x_test[indexes]\n",
    "y_selected = y_test[indexes]\n",
    "\n",
    "# 예측값 계산\n",
    "b1_test = np.insert(ReLU(x_selected @ U), 0, 1, axis=1)\n",
    "d1_test = np.insert(ReLU(b1_test @ V), 0, 1, axis=1)\n",
    "yp_test_one = softmax(d1_test @ W)\n",
    "yp_test = np.argmax(yp_test_one, axis=1)\n",
    "\n",
    "# 그래프 표시\n",
    "plt.figure(figsize=(10, 3))\n",
    "for i in range(N):\n",
    "    ax = plt.subplot(2, N/2, i + 1)\n",
    "    plt.imshow(x_selected[i,1:].reshape(28, 28),cmap='gray_r')\n",
    "    ax.set_title('%d:%d' % (y_selected[i], yp_test[i]),fontsize=14 )\n",
    "    ax.get_xaxis().set_visible(False)\n",
    "    ax.get_yaxis().set_visible(False)\n",
    "plt.show()"
   ]
  }
 ],
 "metadata": {
  "kernelspec": {
   "display_name": "Python 3",
   "language": "python",
   "name": "python3"
  },
  "language_info": {
   "codemirror_mode": {
    "name": "ipython",
    "version": 3
   },
   "file_extension": ".py",
   "mimetype": "text/x-python",
   "name": "python",
   "nbconvert_exporter": "python",
   "pygments_lexer": "ipython3",
   "version": "3.6.9"
  }
 },
 "nbformat": 4,
 "nbformat_minor": 2
}
