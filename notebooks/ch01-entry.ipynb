{
 "cells": [
  {
   "cell_type": "markdown",
   "metadata": {},
   "source": [
    "# 1장 기계 학습 입문"
   ]
  },
  {
   "cell_type": "code",
   "execution_count": null,
   "metadata": {},
   "outputs": [],
   "source": [
    "# 필요 라이브러리 선언\n",
    "%matplotlib inline\n",
    "import numpy as np\n",
    "import pandas as pd\n",
    "import matplotlib.pyplot as plt"
   ]
  },
  {
   "cell_type": "code",
   "execution_count": null,
   "metadata": {},
   "outputs": [],
   "source": [
    "# PDF 출력\n",
    "from IPython.display import set_matplotlib_formats\n",
    "set_matplotlib_formats('png', 'pdf')"
   ]
  },
  {
   "cell_type": "code",
   "execution_count": null,
   "metadata": {},
   "outputs": [],
   "source": [
    "# 샘플 데이터 선언\n",
    "sampleData1 = np.array([[166, 58.7],[176.0, 75.7],[171.0, 62.1],[173.0, 70.4],[169.0,60.1]])\n",
    "print(sampleData1)"
   ]
  },
  {
   "cell_type": "code",
   "execution_count": null,
   "metadata": {},
   "outputs": [],
   "source": [
    "# 그림 1-5 학습 데이터의 2차원 산점도 표시\n",
    "for p in sampleData1:\n",
    "    plt.scatter(p[0], p[1], c='k', s=50)\n",
    "plt.grid()\n",
    "plt.xlabel('$x$')\n",
    "plt.ylabel('$y$')\n",
    "plt.show()"
   ]
  },
  {
   "cell_type": "code",
   "execution_count": null,
   "metadata": {},
   "outputs": [],
   "source": [
    "# 그림 1-7 원점 이동\n",
    "plt.figure(figsize=(10,5))\n",
    "for p in sampleData1:\n",
    "    plt.scatter(p[0], p[1], c='k', s=50)\n",
    "plt.grid()\n",
    "plt.plot([0,0],[-10,80],c='k',lw=1)\n",
    "plt.plot([171,171],[-10,80],c='k')\n",
    "plt.plot([-10,180],[0,0],c='k',lw=1)\n",
    "plt.plot([-10,180],[65.4,65.4],c='k')\n",
    "plt.xlim(-10,180)\n",
    "plt.ylim(-10,80)\n",
    "plt.show()"
   ]
  },
  {
   "cell_type": "code",
   "execution_count": null,
   "metadata": {},
   "outputs": [],
   "source": [
    "# 평균값 계산\n",
    "means = sampleData1.mean(axis=0)\n",
    "print(means)"
   ]
  },
  {
   "cell_type": "code",
   "execution_count": null,
   "metadata": {},
   "outputs": [],
   "source": [
    "# 좌표계를 평균값=0으로 변환\n",
    "sampleData2 = sampleData1 - means\n",
    "print(sampleData2)"
   ]
  },
  {
   "cell_type": "code",
   "execution_count": null,
   "metadata": {},
   "outputs": [],
   "source": [
    "# 새로운 좌표계에서의 산점도\n",
    "for p in sampleData2:\n",
    "    plt.scatter(p[0], p[1], c='k', s=50)\n",
    "plt.grid()\n",
    "plt.xlabel('$X$')\n",
    "plt.ylabel('$Y$')\n",
    "plt.plot([-6,6],[0,0], c='k')\n",
    "plt.plot([0,0],[-7.5,11],c='k')\n",
    "plt.xlim(-5.2,5.2)\n",
    "plt.show()"
   ]
  },
  {
   "cell_type": "code",
   "execution_count": null,
   "metadata": {},
   "outputs": [],
   "source": [
    "# 손실함수 정의\n",
    "def L(W0, W1):\n",
    "    return(5*W0**2 + 58*W1**2 - 211.2*W1 + 214.96)"
   ]
  },
  {
   "cell_type": "code",
   "execution_count": null,
   "metadata": {},
   "outputs": [],
   "source": [
    "# 그림 1-9 L(0, W1)의 그래프\n",
    "plt.figure(figsize=(6,6))\n",
    "W1 = np.linspace(0, 4, 501)\n",
    "plt.plot(W1, L(0,W1))\n",
    "plt.scatter(1.82,22.69,s=30)\n",
    "plt.xlabel('$W_1$')\n",
    "plt.ylabel('$L(0,W_1)$')\n",
    "plt.grid()\n",
    "plt.xlim(0,3.5)\n",
    "plt.ylim(0,200)\n",
    "plt.show()"
   ]
  },
  {
   "cell_type": "code",
   "execution_count": null,
   "metadata": {},
   "outputs": [],
   "source": [
    "def pred1(X):\n",
    "    return 1.82*X"
   ]
  },
  {
   "cell_type": "code",
   "execution_count": null,
   "metadata": {},
   "outputs": [],
   "source": [
    "# 그림 1-10 산점도와 회귀 직선 (좌표계 변환 후)\n",
    "for p in sampleData2:\n",
    "    plt.scatter(p[0], p[1], c='k', s=50)\n",
    "X=np.array([-6,6])\n",
    "plt.plot(X, pred1(X), lw=1)\n",
    "plt.plot([-6,6],[0,0], c='k')\n",
    "plt.plot([0,0],[-11,11],c='k')\n",
    "plt.xlim(-5.2,5.2)\n",
    "plt.grid()\n",
    "plt.xlabel('$X$')\n",
    "plt.ylabel('$Y$')\n",
    "plt.show()"
   ]
  },
  {
   "cell_type": "code",
   "execution_count": null,
   "metadata": {},
   "outputs": [],
   "source": [
    "def pred2(x):\n",
    "    return 1.82*x - 245.9"
   ]
  },
  {
   "cell_type": "code",
   "execution_count": null,
   "metadata": {},
   "outputs": [],
   "source": [
    "# 그림 1-11 원래 좌표계에서의 산점도와 예측식의 그래프\n",
    "for p in sampleData1:\n",
    "    plt.scatter(p[0], p[1], c='k', s=50)\n",
    "x=np.array([166,176])\n",
    "plt.plot(x, pred2(x), lw=1)\n",
    "plt.grid()\n",
    "plt.xlabel('$x$')\n",
    "plt.ylabel('$y$')\n",
    "plt.show()"
   ]
  }
 ],
 "metadata": {
  "kernelspec": {
   "display_name": "Python 3",
   "language": "python",
   "name": "python3"
  },
  "language_info": {
   "codemirror_mode": {
    "name": "ipython",
    "version": 3
   },
   "file_extension": ".py",
   "mimetype": "text/x-python",
   "name": "python",
   "nbconvert_exporter": "python",
   "pygments_lexer": "ipython3",
   "version": "3.6.9"
  }
 },
 "nbformat": 4,
 "nbformat_minor": 1
}
